{
 "cells": [
  {
   "cell_type": "markdown",
   "metadata": {},
   "source": [
    "# CX 4230, Spring 2016: [18] Discrete event simulation of a gas station\n",
    "\n",
    "Recall the introduction to queueing models and discrete event simulators from the last class: [link](https://t-square.gatech.edu/access/content/group/gtc-59b8-dc03-5a67-a5f4-88b8e4d5b69a/cx4230-sp16--17-queueing.pdf). In this notebook, you will implement it."
   ]
  },
  {
   "cell_type": "code",
   "execution_count": 1,
   "metadata": {
    "collapsed": true
   },
   "outputs": [],
   "source": [
    "DEBUG = 1\n",
    "PARKING_NODE_COLOR = 'b'\n",
    "EXIT_NODE_COLOR = 'r'\n",
    "STREET_NODE_COLOR = 'g'"
   ]
  },
  {
   "cell_type": "code",
   "execution_count": 2,
   "metadata": {
    "collapsed": true
   },
   "outputs": [],
   "source": [
    "import types\n",
    "from copy import deepcopy\n",
    "from random import random, seed, gauss\n",
    "from math import log\n",
    "\n",
    "def getDirection(node):\n",
    "    (x1,y1) = node.start\n",
    "    (x2,y2) = node.end\n",
    "    if((x2-x1) == 0):\n",
    "        if(y2 > y1):\n",
    "            deg = 90\n",
    "        else:\n",
    "            deg = 270\n",
    "    elif((y2-y1) == 0):\n",
    "        if(x2>x1):\n",
    "            deg = 0\n",
    "        else:\n",
    "            deg = 180\n",
    "    else:\n",
    "        deg = math.atan((y2-y1)/(x2-x1)) / math.pi * 180\n",
    "        if(deg < 0):\n",
    "            deg += 360\n",
    "        if(y2<y1 and x2<x1):\n",
    "            deg += 180\n",
    "        if(y2>y1 and x2<x1):\n",
    "            deg -= 180\n",
    "    return deg\n",
    "\n",
    "def genRandom(l, type='exponential'):\n",
    "    if(type == 'exponential'):\n",
    "        return -l*log(1-random())\n",
    "    elif(type == 'uniform'):\n",
    "        return random()\n",
    "    elif(type == 'normal'):\n",
    "        return gauss(0,1)\n",
    "    \n",
    "def genID(N=5):\n",
    "    ''.join(random.SystemRandom().choice(string.ascii_uppercase + string.digits) for _ in range(N))\n",
    "\n",
    "#Parking, streets are all nodes.\n",
    "#Attributes:\n",
    "#   type: Either 0/1 0 -> street  1-> parking\n",
    "#   start, end: tuple\n",
    "#   capactiy: integer\n",
    "#   comment: string\n",
    "#   id: assigned id for easy identification\n",
    "#   exit: whether this node is a designated evacuation location \n",
    "#Each node is connected to the nodes that have start as this node's start.\n",
    "class Node:\n",
    "    TYPE_STREET = 0\n",
    "    TYPE_PARKING = 1\n",
    "    def __init__(self, type, start, end, capacity, id, comment='', exit=False):\n",
    "        assert(type == Node.TYPE_PARKING or type == Node.TYPE_STREET)\n",
    "        self.type = type\n",
    "        assert(len(start) == 2)\n",
    "        self.start = start\n",
    "\n",
    "        assert(len(end) == 2)\n",
    "        self.end = end\n",
    "\n",
    "        assert(start != end)\n",
    "        assert(capacity > 0)\n",
    "        self.capacity = capacity\n",
    "        self.comment = comment\n",
    "        self.id = id\n",
    "        self.exit = exit\n",
    "        self.__cars = []\n",
    "        self.__children = []\n",
    "\n",
    "    def enterCar(self, car):\n",
    "        assert(self.canEnterCar())\n",
    "        assert(isinstance(car, Car))\n",
    "        self.__cars.append(car)\n",
    "        car.setCurrentNode(self)\n",
    "\n",
    "    def exitCar(self):\n",
    "        return self.__cars.pop()\n",
    "    def carCount(self):\n",
    "        return len(self.__cars)\n",
    "    def canEnterCar(self):\n",
    "        return(self.carCount() < self.capacity)\n",
    "    def setExit(self, isExit):\n",
    "        self.exit = isExit\n",
    "    def addChildNode(self, node):\n",
    "        assert(isinstance(node, Node))\n",
    "        self.__children.append(node)\n",
    "    def getChildren(self):\n",
    "        return deepcopy(self.__children)\n",
    "    def getDirection(self):\n",
    "        return getDirection(self)\n",
    "    \n",
    "    #To string to be used by print()\n",
    "    def __repr__(self):\n",
    "        if(self.type == Node.TYPE_STREET):\n",
    "            nodeType = \"\\nStreet\"\n",
    "        else:\n",
    "            nodeType = \"\\nParking\"\n",
    "        string = nodeType + \" ID: \" + str(self.id)\n",
    "        if(self.exit):\n",
    "            string += \" is an exit. \"\n",
    "        if(DEBUG):        \n",
    "            string += \" From \" + str(self.start) + \" To \" + str(self.end) \\\n",
    "                + \" Capacity: \" + str(self.capacity) + \" Current: \" + str(self.carCount()) + \"\\n\"\n",
    "            \n",
    "            i = 1\n",
    "            for car in self.__cars:\n",
    "                string += \"\\t\" + str(i) + \": \" + str(car) + \"\\n\"\n",
    "                i += 1\n",
    "        if(len(self.__children) > 0):\n",
    "            string += \"Children: \\n\"\n",
    "            for child in self.__children:\n",
    "                if(child.type == Node.TYPE_STREET):\n",
    "                    nodeType = \"\\tStreet\"\n",
    "                else:\n",
    "                    nodeType = \"\\tParking\"\n",
    "                string += nodeType + \" ID: \" + str(child.id) + \"\\n\"\n",
    "        return string\n",
    "\n",
    "#Car object to keep track of the car's current location and its path.\n",
    "class Car:\n",
    "    def __init__(self, initial):\n",
    "        assert(isinstance(initial, Node))\n",
    "        assert((initial.type == Node.TYPE_PARKING))\n",
    "        self.__currentNode = initial\n",
    "        self.__path = [initial]\n",
    "        self.__nextEvent = None\n",
    "    def setCurrentNode(self, currentNode):\n",
    "        assert(isinstance(currentNode, Node))\n",
    "        self.__currentNode = currentNode\n",
    "        self.__path.append(currentNode)\n",
    "    def getDirection(self):\n",
    "        return getDirection(self.__currentNode)\n",
    "    def __str__(self):\n",
    "        return \"Car at location: \" + str(self.__currentNode.start) + \" next event: \" + str(self.__nextEvent)\n",
    "\n",
    "class Event:\n",
    "    TYPE_IN_PARKING = 0\n",
    "    TYPE_ON_STREET = 1\n",
    "    TYPE_AT_INTERSECTION = 2\n",
    "    TYPE_EXIT = 3\n",
    "    def __init__(self, car, type):\n",
    "        assert(isinstance(car, Car))\n",
    "        self.car = car\n",
    "        self.type = type\n",
    "        if(type == TYPE_IN_PARKING):\n",
    "            self.eventHandler = handleParking\n",
    "        elif(type == TYPE_ON_STREET):\n",
    "            self.eventHandler = handleOnStreet\n",
    "        elif(type == TYPE_AT_INTERSECTION):\n",
    "            self.eventHandler = handleIntersection\n",
    "        elif(type == TYPE_EXIT):\n",
    "            self.eventHandler = handleExit\n",
    "        else:\n",
    "            raise Exception('Uknown Event type: ' + type)\n",
    "    def handleParking(self):\n",
    "        pass\n",
    "    def handleOnStreet(self):\n",
    "        pass\n",
    "    def handleIntersection(self):\n",
    "        pass\n",
    "    def handleExit(self):\n",
    "        pass\n"
   ]
  },
  {
   "cell_type": "code",
   "execution_count": 4,
   "metadata": {
    "collapsed": false
   },
   "outputs": [
    {
     "data": {
      "image/png": "[encoded data removed]",
      "text/plain": [
       "<matplotlib.figure.Figure at 0x3c059932b0>"
      ]
     },
     "metadata": {},
     "output_type": "display_data"
    },
    {
     "data": {
      "image/png": "[encoded data removed]",
      "text/plain": [
       "<matplotlib.figure.Figure at 0x3c006493c8>"
      ]
     },
     "metadata": {},
     "output_type": "display_data"
    },
    {
     "data": {
      "image/png": "[encoded data removed]",
      "text/plain": [
       "<matplotlib.figure.Figure at 0x3c045d6978>"
      ]
     },
     "metadata": {},
     "output_type": "display_data"
    },
    {
     "data": {
      "image/png": "[encoded data removed]",
      "text/plain": [
       "<matplotlib.figure.Figure at 0x3c007694e0>"
      ]
     },
     "metadata": {},
     "output_type": "display_data"
    }
   ],
   "source": [
    "import csv\n",
    "import math\n",
    "import networkx as nx\n",
    "import matplotlib.pyplot as plt\n",
    "%matplotlib inline\n",
    "from copy import deepcopy\n",
    "from heapq import heappush, heappop, heapify\n",
    "\n",
    "#Process the input file and return the rows of split data.\n",
    "def processInput(inputFile):\n",
    "    rows = []\n",
    "    with open(inputFile) as f:\n",
    "        c = csv.reader(f, delimiter=',')\n",
    "        for row in c:\n",
    "            rows.append(row)\n",
    "\n",
    "    return rows[1:]\n",
    "\n",
    "#Binary search for node in a list of nodes\n",
    "def findNode(nodes, node, i, j):\n",
    "    end = node.end\n",
    "    if((j-i) == 1):\n",
    "        if(nodes[i].start == end or nodes[j].start == end):\n",
    "            #Check for left\n",
    "            while(i >= 0 and nodes[i].start == end):\n",
    "                node.addChildNode(nodes[i])\n",
    "                i -= 1\n",
    "            while(j < len(nodes) and nodes[j].start == end):\n",
    "                node.addChildNode(nodes[j])\n",
    "                j += 1\n",
    "    else:\n",
    "        n = int(math.ceil((j-i)/2.0)) + i\n",
    "        if(nodes[n].start <= end):\n",
    "            findNode(nodes, node, n, j)\n",
    "        else:\n",
    "            findNode(nodes, node, i, n)\n",
    "\n",
    "#Graphing function to show the node connections\n",
    "def showGraph(nodes):\n",
    "    nodes = deepcopy(nodes)\n",
    "    nodes = sorted(nodes, key=lambda node: node.id)\n",
    "    G=nx.Graph()\n",
    "    colors = []\n",
    "    for node in nodes:\n",
    "        G.add_node(node.id, pos=node.end)\n",
    "        children = node.getChildren()\n",
    "        if(node.exit):\n",
    "            colors.append(EXIT_NODE_COLOR)\n",
    "        else:\n",
    "            if(node.type == Node.TYPE_STREET):\n",
    "                colors.append(STREET_NODE_COLOR)\n",
    "            else:\n",
    "                colors.append(PARKING_NODE_COLOR)\n",
    "        for child in children:\n",
    "            G.add_edge(node.id, child.id)\n",
    "    pos=nx.get_node_attributes(G,'pos')\n",
    "    pos=nx.spring_layout(G, pos=pos, fixed=pos.keys())\n",
    "    plt.figure(4)\n",
    "    nx.draw_networkx(G,pos,node_color=colors)\n",
    "    plt.show()\n",
    "\n",
    "#Init function that builds the world using the parsed rows\n",
    "def buildGraph(rows):\n",
    "    nodes = []\n",
    "    i = 1\n",
    "    for row in rows:\n",
    "        assert(len(row) == 7)\n",
    "\n",
    "        #Get node type, whether street or parking\n",
    "        if(row[0] == 'Street'):\n",
    "            nodeType = Node.TYPE_STREET\n",
    "        elif(row[0] == 'Parking'):\n",
    "            nodeType = Node.TYPE_PARKING\n",
    "        else:\n",
    "            raise Exception('Uknown type: ' + row[0])\n",
    "\n",
    "        #Create node( type, (x1, x2), (y1, y2), capacity, id, comment)\n",
    "        node = Node(nodeType, (int(row[1]), int(row[2])), (int(row[3]), int(row[4])), int(row[5]), i, comment=row[6])\n",
    "        nodes.append(node)\n",
    "        \n",
    "        #Set evcuation destinations\n",
    "        if(node.end == (760,555) or node.end == (723,32) or node.end == (733,270)):\n",
    "            node.setExit(True)\n",
    "        i += 1\n",
    "\n",
    "        #Set initial cars in parking lotss\n",
    "        if(nodeType == Node.TYPE_PARKING):\n",
    "            for n in range(node.capacity):\n",
    "                node.enterCar(Car(node))\n",
    "    \n",
    "    #Make node connections with its children.    \n",
    "    nodes = sorted(nodes, key=lambda node: node.start)\n",
    "    for node in nodes:\n",
    "        findNode(nodes, node, 0, len(nodes) - 1)\n",
    "    return nodes\n",
    "\n",
    "def simulate():\n",
    "    events = []\n",
    "    #heappush (events, x_i)\n",
    "\n",
    "def printDistribution():\n",
    "    n = 250\n",
    "    l = 5.0\n",
    "    seed (20160224)\n",
    "    e = [genRandom (l, type='exponential') for i in range (n)]\n",
    "    u = [genRandom (l, type='uniform') for i in range (n)]\n",
    "    g = [genRandom (l, type='normal') for i in range (n)]\n",
    "    plt.figure(1)\n",
    "    plt.hist (e)\n",
    "    plt.show()\n",
    "    plt.figure(2)\n",
    "    plt.hist (u)\n",
    "    plt.show()\n",
    "    plt.figure(3)\n",
    "    plt.hist (g)\n",
    "    plt.show()\n",
    "\n",
    "printDistribution()\t\n",
    "rows = processInput('world.csv')\n",
    "nodes = buildGraph(rows)\n",
    "showGraph(nodes)"
   ]
  },
  {
   "cell_type": "markdown",
   "metadata": {},
   "source": [
    "## Priority queues\n",
    "\n",
    "To maintain the future event list, you need some kind of priority queue data structure. One classical choice is to use a heap, for which there is a standard implementation in Python: [link](http://www.bogotobogo.com/python/python_PriorityQueue_heapq_Data_Structure.php)\n",
    "\n",
    "Here's a quick demo."
   ]
  },
  {
   "cell_type": "code",
   "execution_count": 5,
   "metadata": {
    "collapsed": false
   },
   "outputs": [],
   "source": [
    "from heapq import heappush, heappop, heapify"
   ]
  },
  {
   "cell_type": "code",
   "execution_count": 6,
   "metadata": {
    "collapsed": false
   },
   "outputs": [
    {
     "name": "stdout",
     "output_type": "stream",
     "text": [
      "('Initial values:', [4.2469217629189551, 13.295079509519617, 6.0324670983043145, 5.2788026272863497, 0.54812409637577308])\n",
      "('\\nHeapified:', [0.54812409637577308, 4.2469217629189551, 6.0324670983043145, 5.2788026272863497, 13.295079509519617])\n",
      "\n",
      "Extracting mins...\n",
      "(0, ':', 0.54812409637577308)\n",
      "(1, ':', 4.2469217629189551)\n",
      "(2, ':', 5.2788026272863497)\n",
      "(3, ':', 6.0324670983043145)\n",
      "(4, ':', 13.295079509519617)\n"
     ]
    }
   ],
   "source": [
    "# Method 1: Convert any Python list into a heap\n",
    "h1 = list (x_values)\n",
    "print (\"Initial values:\", h1)\n",
    "\n",
    "heapify (h1)\n",
    "print (\"\\nHeapified:\", h1)\n",
    "\n",
    "print (\"\\nExtracting mins...\")\n",
    "for i in range (len (h1)):\n",
    "    print (i, \":\", heappop (h1))"
   ]
  },
  {
   "cell_type": "code",
   "execution_count": 7,
   "metadata": {
    "collapsed": false
   },
   "outputs": [
    {
     "name": "stdout",
     "output_type": "stream",
     "text": [
      "Inserting...\n",
      "(0, ':', 4.2469217629189551)\n",
      "(1, ':', 13.295079509519617)\n",
      "(2, ':', 6.0324670983043145)\n",
      "(3, ':', 5.2788026272863497)\n",
      "(4, ':', 0.54812409637577308)\n",
      "('\\nHeap:', [0.54812409637577308, 4.2469217629189551, 6.0324670983043145, 13.295079509519617, 5.2788026272863497])\n",
      "\n",
      "Extracting minima...\n",
      "(0, ':', 0.54812409637577308)\n",
      "(1, ':', 4.2469217629189551)\n",
      "(2, ':', 5.2788026272863497)\n",
      "(3, ':', 6.0324670983043145)\n",
      "(4, ':', 13.295079509519617)\n"
     ]
    }
   ],
   "source": [
    "# Method 2: Insert values into the heap one at a time\n",
    "\n",
    "print (\"Inserting...\")\n",
    "h2 = []\n",
    "for (i, x_i) in enumerate (x_values):\n",
    "    print (i, \":\", x_i)\n",
    "    heappush (h2, x_i)\n",
    "    \n",
    "print (\"\\nHeap:\", h2)\n",
    "    \n",
    "print (\"\\nExtracting minima...\")\n",
    "for i in range (len (h2)):\n",
    "    print (i, \":\", heappop (h2))"
   ]
  },
  {
   "cell_type": "markdown",
   "metadata": {},
   "source": [
    "## A generic discrete event simulation engine\n",
    "\n",
    "We can build a simple, generic discrete event simulation engine. This engine manages the future event list, which you'll recall is a priority queue of timestamped events. It continually removes the event with the lowest timestamp and processes it."
   ]
  },
  {
   "cell_type": "markdown",
   "metadata": {},
   "source": [
    "Suppose we represent an event by a tuple, `(t, e)`, where `t` is the event's timestamp and `e` is an event handler. An event handler is simply a function. Let's suppose that this function takes two arguments, `e (t, s)`, where `t` is (again) the timestamp and `s` is the system state, encoded in an application-specific way. When `e (t, s)` executes, it may update the state `s`."
   ]
  },
  {
   "cell_type": "markdown",
   "metadata": {},
   "source": [
    "**Exercise.** Complete the following function, which implements a generic discrete event simulation engine. The future events list is `events`. The initial system state is `initial_state`; the starter code below makes a copy of this state as a variable `s`, which your simulator can modify. Additionally, you should correct the last `print()` statement so that instead of a pair of `None` values it prints the timestamp and event name (name of the event handler)."
   ]
  },
  {
   "cell_type": "code",
   "execution_count": 8,
   "metadata": {
    "collapsed": false
   },
   "outputs": [],
   "source": [
    "from copy import deepcopy\n",
    "\n",
    "def simulate (events, initial_state):\n",
    "    s = deepcopy (initial_state)\n",
    "    \n",
    "    print (\"\\nFuture event list:\\n%s\" % str (events))\n",
    "    print (\"\\nt=0: %s\" % str (s))\n",
    "        \n",
    "    while events:\n",
    "        # @YOUSE: Get event and process it\n",
    "        (t, e) = heappop(events)\n",
    "        e(t, s)\n",
    "        \n",
    "        print (\"t=%d: event '%s' => '%s'\" % (t, e, str (s)))"
   ]
  },
  {
   "cell_type": "markdown",
   "metadata": {},
   "source": [
    "## Instantiating the simulator\n",
    "\n",
    "For the gas station model, we asked you to assume the interarrival times, pumping times, and shopping times were exponential i.i.d. random variables. So, let's start by defining some parameters for these distributions. Let's also pre-generate some number of car arrivals."
   ]
  },
  {
   "cell_type": "code",
   "execution_count": 16,
   "metadata": {
    "collapsed": false
   },
   "outputs": [
    {
     "name": "stdout",
     "output_type": "stream",
     "text": [
      "('Interrival times (in minutes) of all cars:\\n', array([  8.33243896,   1.52429913,   2.81272745,  29.66129514,   3.04412049]))\n"
     ]
    }
   ],
   "source": [
    "# Event parameters\n",
    "MEAN_INTERARRIVAL_TIME = 15.0 # minutes\n",
    "MEAN_PUMPING_TIME = 5.0 # minutes\n",
    "MEAN_SHOPPING_TIME = 10.0 # minutes\n",
    "\n",
    "# Number of customers (cars)\n",
    "NUM_CARS = 5\n",
    "\n",
    "# Pre-generate some interarrival times\n",
    "car_interarrival_times = exponential (MEAN_INTERARRIVAL_TIME, NUM_CARS)\n",
    "print (\"Interrival times (in minutes) of all cars:\\n\", car_interarrival_times)"
   ]
  },
  {
   "cell_type": "markdown",
   "metadata": {},
   "source": [
    "Recall that the state consists of the logical simulation time (`now`) and three state variables: `AtPump`, `AtStore`, and `PumpFree`. Let's create this state."
   ]
  },
  {
   "cell_type": "code",
   "execution_count": 17,
   "metadata": {
    "collapsed": true
   },
   "outputs": [],
   "source": [
    "now = 0.0 # Current (logical) simulation time\n",
    "state = {'AtPump': 0          # no. cars at pump or waiting\n",
    "         , 'AtStore': 0       # no. cars at store\n",
    "         , 'PumpFree': True   # True <==> pump is available\n",
    "        }"
   ]
  },
  {
   "cell_type": "markdown",
   "metadata": {},
   "source": [
    "Let's represent an _event_ as a tuple, `(t, e)`, where `t` is the timestamp of the event and `e` is an event handler, implemented as a Python function.\n",
    "\n",
    "If the future event list is stored in a global priority queue called `events`, the following function will insert an event into that queue."
   ]
  },
  {
   "cell_type": "code",
   "execution_count": 18,
   "metadata": {
    "collapsed": false,
    "scrolled": true
   },
   "outputs": [],
   "source": [
    "def schedule (t, e):\n",
    "    \"\"\"\n",
    "    Schedules a new event `e` at time `t`.\n",
    "    \"\"\"\n",
    "    global events\n",
    "    print (\"  ==> '%s' @ t=%g\" % (e.__name__, t))\n",
    "    heappush (events, (t, e))"
   ]
  },
  {
   "cell_type": "markdown",
   "metadata": {},
   "source": [
    "**Exercise.** Implement an event handler to process a car arrival event. Assume that event handlers take as input the timestamp `t` of the event and the state `s` of the system at time `t`."
   ]
  },
  {
   "cell_type": "code",
   "execution_count": 19,
   "metadata": {
    "collapsed": false
   },
   "outputs": [],
   "source": [
    "def arrives (t, s):\n",
    "    \"\"\"\n",
    "    Processes an arrival event at time `t` for a system in state `s`.\n",
    "    Schedules a pumping event if the pump is free. Returns the new\n",
    "    system state.\n",
    "    \"\"\"\n",
    "    # @YOUSE\n",
    "    s['AtPump'] += 1\n",
    "    if s['PumpFree']:\n",
    "        s['PumpFree'] = False\n",
    "        t_done = t + exponential (MEAN_PUMPING_TIME)\n",
    "        schedule(t_done, finishes)\n",
    "    return s"
   ]
  },
  {
   "cell_type": "markdown",
   "metadata": {},
   "source": [
    "**Exercise.** Implement a function to process the event for a car that finishes pumping gas."
   ]
  },
  {
   "cell_type": "code",
   "execution_count": 20,
   "metadata": {
    "collapsed": true
   },
   "outputs": [],
   "source": [
    "def finishes (t, s):\n",
    "    \"\"\"\n",
    "    Processes a finished-pumping event at time `t` for a system in\n",
    "    state `s`. Schedules a pumping event if any cars are waiting.\n",
    "    Returns the new system state.\n",
    "    \"\"\"\n",
    "    # @YOUSE\n",
    "    s['AtPump'] -= 1\n",
    "    if s['AtPump'] > 0:\n",
    "        #Schedule\n",
    "        schedule (t + exponential (MEAN_PUMPING_TIME), finishes)\n",
    "    else:\n",
    "        s['PumpFree'] = True\n",
    "    s['AtStore'] += 1\n",
    "    schedule (t + exponential (MEAN_SHOPPING_TIME), departs)\n",
    "    return s"
   ]
  },
  {
   "cell_type": "markdown",
   "metadata": {},
   "source": [
    "**Exercise.** Implement a function to process the event for a car that leaves the store."
   ]
  },
  {
   "cell_type": "code",
   "execution_count": 21,
   "metadata": {
    "collapsed": true
   },
   "outputs": [],
   "source": [
    "def departs (t, s):\n",
    "    \"\"\"\n",
    "    Processes a departure from the station event at\n",
    "    time `t` for a system in state `s`.\n",
    "    \"\"\"\n",
    "    # @YOUSE\n",
    "    s['AtStore'] -= 1\n",
    "    return s"
   ]
  },
  {
   "cell_type": "markdown",
   "metadata": {},
   "source": [
    "**Exercise.** Create an initial future events list by converting the raw interarrival times into arrival events and inserting them into the future events list."
   ]
  },
  {
   "cell_type": "code",
   "execution_count": 22,
   "metadata": {
    "collapsed": false
   },
   "outputs": [
    {
     "name": "stdout",
     "output_type": "stream",
     "text": [
      "  ==> 'arrives' @ t=8.33244\n",
      "  ==> 'arrives' @ t=1.5243\n",
      "  ==> 'arrives' @ t=2.81273\n",
      "  ==> 'arrives' @ t=29.6613\n",
      "  ==> 'arrives' @ t=3.04412\n",
      "\n",
      "Contents of `events[:]`:\n",
      "[0] t=1.5243: arrives\n",
      "[1] t=3.04412: arrives\n",
      "[2] t=2.81273: arrives\n",
      "[3] t=29.6613: arrives\n",
      "[4] t=8.33244: arrives\n"
     ]
    }
   ],
   "source": [
    "# Hint: This function may prove useful\n",
    "from numpy import cumsum\n",
    "\n",
    "events = []  # Future event list, initially empty\n",
    "\n",
    "# @YOUSE: Create initial events from all car arrivals\n",
    "for i in range(NUM_CARS):\n",
    "    schedule(car_interarrival_times[i],arrives)\n",
    "\n",
    "# Test code\n",
    "print (\"\\nContents of `events[:]`:\")\n",
    "for (i, event) in enumerate (events):\n",
    "    print (\"[%d] t=%g: %s\" % (i, event[0], event[1].__name__))"
   ]
  },
  {
   "cell_type": "code",
   "execution_count": 23,
   "metadata": {
    "collapsed": false
   },
   "outputs": [
    {
     "name": "stdout",
     "output_type": "stream",
     "text": [
      "\n",
      "Future event list:\n",
      "[(1.5242991332787799, <function arrives at 0x0000000002670EB8>), (3.0441204883571267, <function arrives at 0x0000000002670EB8>), (2.8127274452089295, <function arrives at 0x0000000002670EB8>), (29.66129513916097, <function arrives at 0x0000000002670EB8>), (8.3324389625676911, <function arrives at 0x0000000002670EB8>)]\n",
      "\n",
      "t=0: {'PumpFree': True, 'AtStore': 0, 'AtPump': 0}\n",
      "  ==> 'finishes' @ t=5.2014\n",
      "t=1: event '<function arrives at 0x0000000002670EB8>' => '{'PumpFree': False, 'AtStore': 0, 'AtPump': 1}'\n",
      "t=2: event '<function arrives at 0x0000000002670EB8>' => '{'PumpFree': False, 'AtStore': 0, 'AtPump': 2}'\n",
      "t=3: event '<function arrives at 0x0000000002670EB8>' => '{'PumpFree': False, 'AtStore': 0, 'AtPump': 3}'\n",
      "  ==> 'finishes' @ t=9.7251\n",
      "  ==> 'departs' @ t=6.69922\n",
      "t=5: event '<function finishes at 0x00000000026BD2E8>' => '{'PumpFree': False, 'AtStore': 1, 'AtPump': 2}'\n",
      "t=6: event '<function departs at 0x00000000026BD278>' => '{'PumpFree': False, 'AtStore': 0, 'AtPump': 2}'\n",
      "t=8: event '<function arrives at 0x0000000002670EB8>' => '{'PumpFree': False, 'AtStore': 0, 'AtPump': 3}'\n",
      "  ==> 'finishes' @ t=11.7523\n",
      "  ==> 'departs' @ t=21.266\n",
      "t=9: event '<function finishes at 0x00000000026BD2E8>' => '{'PumpFree': False, 'AtStore': 1, 'AtPump': 2}'\n",
      "  ==> 'finishes' @ t=15.811\n",
      "  ==> 'departs' @ t=17.4027\n",
      "t=11: event '<function finishes at 0x00000000026BD2E8>' => '{'PumpFree': False, 'AtStore': 2, 'AtPump': 1}'\n",
      "  ==> 'departs' @ t=24.2958\n",
      "t=15: event '<function finishes at 0x00000000026BD2E8>' => '{'PumpFree': True, 'AtStore': 3, 'AtPump': 0}'\n",
      "t=17: event '<function departs at 0x00000000026BD278>' => '{'PumpFree': True, 'AtStore': 2, 'AtPump': 0}'\n",
      "t=21: event '<function departs at 0x00000000026BD278>' => '{'PumpFree': True, 'AtStore': 1, 'AtPump': 0}'\n",
      "t=24: event '<function departs at 0x00000000026BD278>' => '{'PumpFree': True, 'AtStore': 0, 'AtPump': 0}'\n",
      "  ==> 'finishes' @ t=31.8822\n",
      "t=29: event '<function arrives at 0x0000000002670EB8>' => '{'PumpFree': False, 'AtStore': 0, 'AtPump': 1}'\n",
      "  ==> 'departs' @ t=36.3978\n",
      "t=31: event '<function finishes at 0x00000000026BD2E8>' => '{'PumpFree': True, 'AtStore': 1, 'AtPump': 0}'\n",
      "t=36: event '<function departs at 0x00000000026BD278>' => '{'PumpFree': True, 'AtStore': 0, 'AtPump': 0}'\n"
     ]
    }
   ],
   "source": [
    "# More test code: If everything worked, so should this simulation!\n",
    "simulate (events, state)"
   ]
  },
  {
   "cell_type": "code",
   "execution_count": null,
   "metadata": {
    "collapsed": true
   },
   "outputs": [],
   "source": []
  }
 ],
 "metadata": {
  "kernelspec": {
   "display_name": "Python 3",
   "language": "python",
   "name": "python3"
  },
  "language_info": {
   "codemirror_mode": {
    "name": "ipython",
    "version": 3
   },
   "file_extension": ".py",
   "mimetype": "text/x-python",
   "name": "python",
   "nbconvert_exporter": "python",
   "pygments_lexer": "ipython3",
   "version": "3.5.1"
  }
 },
 "nbformat": 4,
 "nbformat_minor": 0
}
