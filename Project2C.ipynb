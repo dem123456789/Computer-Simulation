{
 "cells": [
  {
   "cell_type": "markdown",
   "metadata": {},
   "source": [
    "# Project 2C\n",
    "In part B, we set up road network of the GT campus with [world.csv](https ://bitbucket.org/gtcx4230s p15/gt-world).Some assumptions made in this simulator is that people follow regular traffic rules in that people only drive in the direction of the street. Cars may not make a \"U turn\" when driving on a particular street; however, the driver may choose to drive back the road which (s)he came from if a street is 2 way. The capacity of the road is calculated using the real life GT campus width / # of cells horizontally * the street length in unit cells. A car may not choose to drive back when the driver has reached an exit. \n",
    "\n",
    "We instantiate the simulator with the road network of nodes. Both parking and streets are nodes. Each node has a start and end point which indicates the direction of the street; each node has children nodes which indicates the road connections. If a street is 2 way, a new node with opposite direction will be generated to accout for the counter flow. \n",
    "We also implement three kinds of random number generators.\n",
    "In part C, we will use Priority Queue to handle all the events. We defined 4 types of events: \n",
    "\n",
    "\n",
    "1.**In Parking**: The initial event for all cars.\n",
    "\n",
    "2.**On Street**\n",
    "\n",
    "3.**At Intersection**\n",
    "\n",
    "4.**Exit**\n",
    "\n",
    "For a given event, a time will be associated with it. The time indicates when this event will be processed. For event 1 and 2, the simulator will check if the car can in fact complete the action and move on to the next action. An action can be completed if there are no other cars in front this car. If the car cannot leave this street and arrive at an intersection or leave the parking lot, a new event will be generated with a later time associated with the same car for the same action. This can model a traffic backup correctly in that it's not known how long it takes to complete this action of leaving the parking lot or leaving this street. We will not only use random numbers for dertermining time interval but we will also use them for handling intersection event."
   ]
  },
  {
   "cell_type": "markdown",
   "metadata": {},
   "source": [
    "In Part C, we implement four types of events and add many parameters to enchance the reality and generality of our model. Our model has a graph with nodes and vertices. Each node represent the start point of one record from world.csv. Then every edge represents the connection between each record based on their start and end point. The node class has child node to represent the vertices.\n",
    "\n",
    "In the red-flashing mode, we use the random generator developed in part B to help us simulating time elapse and decision at intersection. We use uniform random numbers to decide which direction the car may turn. In addition to that, we use a parameter EAST_TENDENCY to give more weight to the path that directs east. If the intersecton has a path to the east direction, it will probably decide to follow that direction. If not then we use the random generator to decide. If EAST_TENDENCY is zero, there is no weight given these east direction paths. We get some very interesting results from this parameter.\n",
    "\n",
    "In the Cop mode, we add many parameters and hope that we can simulate the real wolrd. First the policy that the policy that the cops use to guide the cars is based on the congestion level and path travel time. Congestion level is determined by the number of cars over capacity of one node. The path travel time is configured in advance with the distance over car speed. Simulation parameters like the car speed are listed below. We also normalize the congestion level and path travel time in order to take both into account in the same scale. We also have a trade-off parameter SPACE_TIME_TRADEOFF to weight on these two parameters different. Based on our experiment, in this graph, it would be better to rely more on congestion level than path travel time.\n",
    "\n",
    "Meanwhile, in order to decide the location of cops, we use some abstract principle to place the cops. In reality, cops mostly apprear when there is a congestion at intersection or a intersection is very big and possible has many turns. So we set COP_INTERSECTION_THRESHOLD COP_CONGESTION_THRESHOLD to help use decide where these cops should appear. The default mode is to purely decide the position with the number of turns with the parameter IF_MUTATE. In this case, the cops will not change their positions contantly. We add one more interesting feature to our model which turns out to be quite useful and realistic. Because cops are also humans and they will also have to evacuate, we decide to let cops to leave their position when the number of people exit reach a threshold COP_EVACUATION_THRESHOLD. Previously, we encounter situations that in the end the cops prevent the cars to leave the node and force them to circulate in a closed cycle. With this functionality, as the cops leave, the cars will turn into red-flashing mode and garadually evacuate.\n",
    "\n",
    "In the future, we might add more features like let cops to handle deadend and be awared of the conditions of more levels of child nodes. In our model,each node acts like a root node for a tree. So we might use some graph theory to give the cops ability to judge the condition more wisely."
   ]
  },
  {
   "cell_type": "markdown",
   "metadata": {
    "collapsed": true
   },
   "source": [
    "## Please run simulator.py"
   ]
  },
  {
   "cell_type": "code",
   "execution_count": null,
   "metadata": {
    "collapsed": true
   },
   "outputs": [],
   "source": []
  }
 ],
 "metadata": {
  "kernelspec": {
   "display_name": "Python 3",
   "language": "python",
   "name": "python3"
  },
  "language_info": {
   "codemirror_mode": {
    "name": "ipython",
    "version": 3
   },
   "file_extension": ".py",
   "mimetype": "text/x-python",
   "name": "python",
   "nbconvert_exporter": "python",
   "pygments_lexer": "ipython3",
   "version": "3.5.1"
  }
 },
 "nbformat": 4,
 "nbformat_minor": 0
}
