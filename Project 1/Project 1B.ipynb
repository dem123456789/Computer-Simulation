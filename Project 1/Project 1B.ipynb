{
 "cells": [
  {
   "cell_type": "markdown",
   "metadata": {},
   "source": [
    "# CX 4230, Project 1B\n"
   ]
  },
  {
   "cell_type": "markdown",
   "metadata": {},
   "source": [
    "**Cellular automaton.** One kind of simple conceptual model we could apply is the general class of models known as [_cellular automata_](https://en.wikipedia.org/wiki/Cellular_automaton) (plural). The basic idea of any cellular automaton (singular) is to model a system by a geometric collection of discrete cells, where each cell can be in one of a finite number of possible states; the system evolves in <b>discrete time steps</b>, where at each time step the state of every cell might change according to a state-transition rule."
   ]
  },
  {
   "cell_type": "markdown",
   "metadata": {},
   "source": [
    "## A formal conceptual model of segregation based on a cellular automaton"
   ]
  },
  {
   "cell_type": "markdown",
   "metadata": {},
   "source": [
    "Let's use a cellular automaton as the conceptual model for the \"segregation system.\" Using Python, we will simultaneously build the _simulator_ for that conceptual model."
   ]
  },
  {
   "cell_type": "markdown",
   "metadata": {},
   "source": [
    "### Setting up the initial world\n",
    "\n",
    "Let's suppose the members of our two tribes (\"A\" and \"B\") live in a physical world, which we represent by a 2-D Cartesian grid of cells of size $(m+2) \\times (n+2)$. Each cell has a location, given by a pair of integers $(i, j)$, where $0 \\leq i < m+2$ and $0 \\leq j < n+2$.\n",
    "\n",
    "Why the \"+2\"? The world will actually have two parts: an \"interior,\" where members of the two tribes can live, and a \"boundary layer,\" which is a 1-cell deep wall that encloses the interior cells. More formally, the interior cells are the $(i, j)$ such that $1 \\leq i \\leq m$ and $1 \\leq j \\leq n$; all remaining cells comprise the boundary. No one can live in the boundary layer; as it is a wall, it will (conceptually) prevent migration out of the world."
   ]
  },
  {
   "cell_type": "markdown",
   "metadata": {},
   "source": [
    "Just one member of some tribe may occupy a cell at any moment in time. Time increases monotonically in discrete integer steps, starting at $t = 0$.\n",
    "\n",
    "Formally, let's encode these facts by defining a population grid, which is a collection of population cells at time $t$, $G(t) \\equiv \\{g_{ij}(t)\\}$. Each cell takes on one of three integer values: $g_{ij}(t) \\in \\{-1, 0, +1\\}$, where a $+1$ means a member of tribe A occupies cell $(i, j)$ at time $t$; a $-1$ means a member of tribe B occupies the cell; and a $0$ means the cell is empty.\n",
    "\n",
    "> Recall that no one can live in the wall, so its cells are always zero."
   ]
  },
  {
   "cell_type": "code",
   "execution_count": 1,
   "metadata": {
    "collapsed": true
   },
   "outputs": [],
   "source": [
    "# Possible population cell states:\n",
    "EMPTY = 0\n",
    "TRIBE_A = 1\n",
    "TRIBE_B = -1\n",
    "UNHAPPY_COLOR_THRESHOLD = 0\n",
    "COND_PROB_A = 2.0/3\n",
    "PROB_OCCUPIED = 0.5\n",
    "COND_PROB_NEIGHBOR = 0.5 # Probability of being influenced by the neighbors\n",
    "RADIUS = 2 # radius of neighborhood"
   ]
  },
  {
   "cell_type": "markdown",
   "metadata": {},
   "source": [
    "We need to initialize this world. Let's do so probabilistically; that is, let's populate the world randomly according to some assumed distribution. <b>The probability defines how dense the map is.</b>\n",
    "\n",
    "> To see if the evolution of this world is sensitive to properties of this distribution, we can change the population parameters or distributions, do experiments (i.e., simulations), and analyze the results. Later in the semester, we will talk about _input modeling_ and _output modeling_, which are the principles and techniques for how to do our simulations systematically so we can interpret the results.\n",
    "\n",
    "At time $t=0$, suppose the chance that a cell is occupied is given by a <b>Bernoulli trial</b>, which is independent of cell's location. That is, for any interior cell $(i, j)$ such that $1 \\leq i \\leq m$ and $1 \\leq j \\leq n$,\n",
    "\n",
    "$$\n",
    "  Pr[g_{ij}(0) = \\pm 1] \\equiv \\rho,\n",
    "$$\n",
    "\n",
    "where $\\rho \\in [0, 1]$. Note that this implies the probability that the cell is empty is $Pr[g_{ij}(0) = 0] = 1 - \\rho$.\n",
    "\n",
    "If the cell is occupied, let's further suppose that tribe A occupies the cell with probability $\\alpha$. That is, the conditional probability,\n",
    "\n",
    "$$\n",
    "  Pr[g_{ij}(0) = +1|g_{ij}(0) = \\pm 1] \\equiv \\alpha .\n",
    "$$\n",
    "\n",
    "From these givens and facts of elementary probability, we may conclude that for all _interior_ cells,\n",
    "\n",
    "$$\n",
    "  Pr[g_{ij}(0) = k]\n",
    "    = \\left\\{\\begin{array}{ll}\n",
    "                 1 - \\rho & \\mathrm{if\\ } k = 0 \\\\\n",
    "              \\rho \\alpha & \\mathrm{if\\ } k = +1 \\\\\n",
    "        \\rho (1 - \\alpha) & \\mathrm{if\\ } k = -1\n",
    "      \\end{array}\\right..\n",
    "$$\n",
    "\n",
    "With these definitions, we can build the initial world."
   ]
  },
  {
   "cell_type": "code",
   "execution_count": 2,
   "metadata": {
    "collapsed": false
   },
   "outputs": [],
   "source": [
    "import numpy as np\n",
    "np.random.seed (1601134230) # Fixed seed, for debugging"
   ]
  },
  {
   "cell_type": "code",
   "execution_count": 3,
   "metadata": {
    "collapsed": true
   },
   "outputs": [],
   "source": [
    "def create_pop_grid (m, n, pr_occupied, pr_one, radius=RADIUS):\n",
    "    \"\"\"\n",
    "    Returns an m+(2*radius) x  n+(2*radius) grid of integer cells, representing\n",
    "    the population map of an abstract \"world.\"\n",
    "    \n",
    "    Each cell contains one of three possible values: {-1, 0, +1}.\n",
    "    The boundaries are set to 0, i.e., the world is \"padded.\"\n",
    "    \n",
    "    In the interior, the probability that a cell is non-zero is\n",
    "    pr_occupied. Cells are independent. The conditional\n",
    "    probability that an occupied cell is +1 given that it is\n",
    "    occupied is pr_one.\n",
    "    \"\"\"\n",
    "    \n",
    "    dims = (m+(2*radius), n+(2*radius))\n",
    "    \n",
    "    pr_a = pr_occupied * pr_one\n",
    "    pr_b = pr_occupied * (1.0 - pr_one)\n",
    "    pr_empty = (1.0 - pr_occupied)\n",
    "    \n",
    "    possible_values = np.array ([EMPTY, TRIBE_A, TRIBE_B])\n",
    "    pr_dist = np.array ([pr_empty, pr_a, pr_b])\n",
    "    \n",
    "    grid = np.random.choice (possible_values, size=dims, p=pr_dist)\n",
    "    \n",
    "    # Fix the boundary\n",
    "    grid[0:radius,   :] = 0\n",
    "    grid[m+radius:,   :] = 0\n",
    "    grid[  :,   0:radius] = 0\n",
    "    grid[  :, n+radius:] = 0\n",
    "    \n",
    "    return grid"
   ]
  },
  {
   "cell_type": "code",
   "execution_count": 4,
   "metadata": {
    "collapsed": false
   },
   "outputs": [],
   "source": [
    "import matplotlib.pyplot as plt # Core plotting support\n",
    "%matplotlib inline"
   ]
  },
  {
   "cell_type": "code",
   "execution_count": 5,
   "metadata": {
    "collapsed": false
   },
   "outputs": [],
   "source": [
    "def show_grid (grid):\n",
    "    plt.matshow (grid)"
   ]
  },
  {
   "cell_type": "code",
   "execution_count": 6,
   "metadata": {
    "collapsed": true
   },
   "outputs": [],
   "source": [
    "def normalize_neighborhoods (grid, radius=RADIUS):\n",
    "    # Given a grid of cells, normalize the value of each\n",
    "    # grid cell by the count of its nearest neighbors.\n",
    "    norm_grid = np.zeros (grid.shape)\n",
    "    num_interior = ((2*radius+1)**2)\n",
    "    num_edge = ((2*radius+1)*(radius+1))\n",
    "    num_corner = ((radius+1)**2)\n",
    "    # Interior\n",
    "    norm_grid[1:-1, 1:-1] = grid[1:-1, 1:-1] / num_interior\n",
    "    \n",
    "    # Edges\n",
    "    norm_grid[1:-1, 0] = grid[1:-1, 0] / num_edge\n",
    "    norm_grid[1:-1, -1] = grid[1:-1, -1] / num_edge\n",
    "    norm_grid[0, 1:-1] = grid[0, 1:-1] / num_edge\n",
    "    norm_grid[-1, 1:-1] = grid[-1, 1:-1] / num_edge\n",
    "    \n",
    "    # Corners\n",
    "    norm_grid[0, 0] = grid[0, 0] / num_corner\n",
    "    norm_grid[0, -1] = grid[0, -1] / num_corner\n",
    "    norm_grid[-1, 1] = grid[-1, 0] / num_corner\n",
    "    norm_grid[-1, -1] = grid[-1, -1] / num_corner\n",
    "    \n",
    "    return norm_grid"
   ]
  },
  {
   "cell_type": "markdown",
   "metadata": {},
   "source": [
    "### Dominance is bliss: Measuring \"happiness\"\n",
    "\n",
    "Having set up the world, the next step is to model the mobility of the cells conceptually as _state transitions_ of the cellular automaton.\n",
    "\n",
    "At a high-level, we wish to define the function,\n",
    "\n",
    "$$\n",
    "  G(t+1) \\leftarrow F(G(t)).\n",
    "$$\n",
    "\n",
    "Intuitively, you might hypothesize that individuals prefer to be in neighborhoods that have more members of the same tribe. So, our process might be to first measure, for each cell $(i, j)$, some property that we can use to decide whether the occupant wants to move."
   ]
  },
  {
   "cell_type": "markdown",
   "metadata": {},
   "source": [
    "To define this property, let's start by defining the \"character\" or \"color\" $c_{ij}(t)$ of its neighborhood at time $t$. Let's adopt a convention that low values of color correspond to dissimilarity, and high values similarity.\n",
    "\n",
    "Define the _neighborhood_ $\\mathcal{N}_{ij}$ of cell $(i, j)$ to be the collection of cells right next to it, including $(i, j)$. That is,\n",
    "\n",
    "$$\n",
    "  \\mathcal{N}_{ij} \\equiv \\{(i', j') : |i' - i|, |j' - j| \\leq 1\\}.\n",
    "$$\n",
    "\n",
    "Let's measure the _raw color_ $c_{ij}(t)$ of $(i, j)$ at time $t$ as the sum of the population values in its neighorhood:\n",
    "\n",
    "$$\n",
    "  c_{ij}(t) \\equiv\n",
    "    \\displaystyle \\sum_{(r, s) \\in \\mathcal{N}_{ij}} g_{rs}(t).\n",
    "$$\n",
    "\n",
    "If the neighborhood has the same number of +1 and -1 values, then its color is zero. Otherwise, the sign of $c_{ij}(t)$ indicates whether the neighborhood has more members of tribe A (sum is positive) or B (sum is negative).\n",
    "\n",
    "For our conceptual model, we will be interested not in the raw color, but a normalized version of it, where the normalization factor is just the size of the neighborhood:\n",
    "\n",
    "$$\n",
    "  \\hat{c}_{ij}(t) \\equiv \\frac{c_{ij}(t)}\n",
    "                              {\\left| \\mathcal{N}_{ij} \\right|}.\n",
    "$$"
   ]
  },
  {
   "cell_type": "markdown",
   "metadata": {},
   "source": [
    "**Exercise.** Define a Python function, `measure_color(G)`, which takes an  grid `G` as input and returns a grid `C` of (raw) colors. Assume that `G` has a boundary layer (wall).\n",
    "\n",
    "> In the skeleton below, `measure_color()` takes an optional argument, `normalize`, which when `True` asks for the _normalized_ color instead. This normalization code has been filled in for you. Your task is to replace the `pass` statement with code to compute the color according to the conceptual model."
   ]
  },
  {
   "cell_type": "code",
   "execution_count": 7,
   "metadata": {
    "collapsed": false
   },
   "outputs": [],
   "source": [
    "def measure_color (G, random_draw, radius=RADIUS, tau=COND_PROB_NEIGHBOR, normalize=False):\n",
    "    C = np.zeros (G.shape, dtype=G.dtype)\n",
    "    G_s = random_draw < tau\n",
    "    #print (G_s)\n",
    "    # @YOUSE: Compute the colors C from grid G\n",
    "    for x in range(radius, len(G)-radius):\n",
    "        for y in range(radius, len(G[0])-radius):\n",
    "            #print (G[x-radius:x+radius+1,y-radius:y+radius+1])\n",
    "            C[x,y] =np.sum(G[x-radius:x+radius+1,y-radius:y+radius+1] * G_s) # Compute the color based on probability\n",
    "    \n",
    "    if normalize:\n",
    "        C = C.astype (float)\n",
    "        C[radius:-radius, radius:-radius] = normalize_neighborhoods (C[radius:-radius, radius:-radius], radius)\n",
    "        \n",
    "    return C"
   ]
  },
  {
   "cell_type": "markdown",
   "metadata": {},
   "source": [
    "Given the normalized color measurement, we can define a condition in which an individual _wants_ to move to a different neighborhood.\n",
    "\n",
    "Suppose $g_{ij}(t)$ is occupied. Then, let the _happiness_ at $(i, j)$ be\n",
    "\n",
    "$$\n",
    "  h_{ij}(t) \\equiv g_{ij}(t) \\cdot \\hat{c}_{ij}(t).\n",
    "$$\n",
    "\n",
    "This value is positive if $g_{ij}(t)$ and $\\hat{c}_{ij}(t)$ have the same sign, or negative otherwise. Thus, higher values of $h_{ij}(t)$ indicate that the tribe of $g_{ij}(t)$ is more prevalent. This suggests a simple rule for determining whether the occupant of cell $(i, j)$ is unhappy, namely, when $h_{ij}(t) < \\theta$ for some given threshold $\\theta$."
   ]
  },
  {
   "cell_type": "markdown",
   "metadata": {},
   "source": [
    "**Exercise.** Suppose you are given\n",
    "\n",
    "* a population grid, `G`;\n",
    "* a _normalized_ color grid, `C`;\n",
    "* and a threshold, `theta`.\n",
    "\n",
    "Then, define a function, `get_unhappy_grid(G, C, theta)`, which returns a new grid `G_unhappy` which has `G_unhappy[i, j] == G[i, j]` wherever an occupant `G[i, j]` is unhappy, i.e., has a $h_{ij}$ strictly less than $\\theta$; everywhere else, `G_unhappy` is zero."
   ]
  },
  {
   "cell_type": "code",
   "execution_count": 8,
   "metadata": {
    "collapsed": false
   },
   "outputs": [],
   "source": [
    "def get_unhappy_grid (G, C, threshold=UNHAPPY_COLOR_THRESHOLD):\n",
    "    # @YOUSE: Compute G_unhappy\n",
    "    H = np.multiply(G,C)\n",
    "   \n",
    "    G_unhappy = np.multiply(G,H<threshold)\n",
    "    return G_unhappy"
   ]
  },
  {
   "cell_type": "markdown",
   "metadata": {},
   "source": [
    "Now that we know who is unhappy, we can finish defining the \"dynamics\" of our state transition function, $F(G(t))$.\n",
    "\n",
    "Let's start by getting a list of everyone who is unhappy, separated by tribe."
   ]
  },
  {
   "cell_type": "code",
   "execution_count": 9,
   "metadata": {
    "collapsed": false
   },
   "outputs": [],
   "source": [
    "def get_locations (condition_grid):\n",
    "    \"\"\"\n",
    "    Given a grid of True/False values, returns a\n",
    "    list of tuples [..., (i, j), ...], where each\n",
    "    tuple is the location of a True value.\n",
    "    \"\"\"\n",
    "    locs = np.nonzero (condition_grid)\n",
    "    return list (zip (locs[0], locs[1]))"
   ]
  },
  {
   "cell_type": "markdown",
   "metadata": {},
   "source": [
    "Next, let's get a list of empty cells, i.e., \"available real estate\" for occupants who want to move out of their neighborhoods."
   ]
  },
  {
   "cell_type": "code",
   "execution_count": 10,
   "metadata": {
    "collapsed": false
   },
   "outputs": [],
   "source": [
    "def is_free_grid (pop_grid, radius=RADIUS):\n",
    "    free_spaces = np.zeros (pop_grid.shape, dtype=bool)\n",
    "    free_spaces[radius:-radius, radius:-radius] = (pop_grid[radius:-radius, radius:-radius] == 0)\n",
    "    return free_spaces"
   ]
  },
  {
   "cell_type": "markdown",
   "metadata": {},
   "source": [
    "Given the available real estate, we can then determine which ones each tribe might find appealing.\n",
    "\n",
    "Let's start with tribe A. Define those locations to be any empty cell $(i, j)$ such that the $\\hat{c}_{ij}(t) > \\theta$, i.e., the normalized color of the neighborhood is above the unhappiness threshold."
   ]
  },
  {
   "cell_type": "markdown",
   "metadata": {},
   "source": [
    "**Exercise.** What is an analogous condition for tribe B? That is, define a condition and then compute `locs_appeal_to_B`, a list of locations (tuples) that might be available and appealing to tribe B."
   ]
  },
  {
   "cell_type": "markdown",
   "metadata": {},
   "source": [
    "Given members of a tribe that want to move and a list of possible locations, the last step is to execute the moves.\n",
    "\n",
    "Our procedure will be the following. Given the list of destinations (i.e., locations that are both available _and_ appealing), we will move as many unhappy members of the tribe to these destinations as possible. (The reason for \"as possible\" is that there may be fewer destinations than unhappy campers.)\n",
    "\n",
    "The following helper routine executes a batch of random swaps on a grid, given \"source\" and \"target\" indices."
   ]
  },
  {
   "cell_type": "markdown",
   "metadata": {},
   "source": [
    "**Exercise.** Make sure you understand what this function does before moving on."
   ]
  },
  {
   "cell_type": "code",
   "execution_count": 11,
   "metadata": {
    "collapsed": false
   },
   "outputs": [],
   "source": [
    "import random # Python's built-in random number generator module\n",
    "\n",
    "def swap_grid_random (G, locs_x, locs_y):\n",
    "    \"\"\"\n",
    "    Given a grid and two possible collections of locations, X and Y,\n",
    "    this routine randomly swaps as many locations from X with those\n",
    "    from Y. This routine performs the swaps *in-place*, that is, it\n",
    "    modifies grid directly.\n",
    "    \"\"\"\n",
    "    \n",
    "    # Max swaps possible\n",
    "    n = min (len (locs_x), len (locs_y))\n",
    "    \n",
    "    # Choose random entries to swap\n",
    "    locs_x_to_swap = random.sample (locs_x, n)\n",
    "    locs_y_to_swap = random.sample (locs_y, n)\n",
    "    \n",
    "    # Execute swaps\n",
    "    for ((xi, xj), (yi, yj)) in zip (locs_x_to_swap, locs_y_to_swap):\n",
    "        G[xi, xj], G[yi, yj] = G[yi, yj], G[xi, xj]\n",
    "        \n",
    "    return G"
   ]
  },
  {
   "cell_type": "code",
   "execution_count": 12,
   "metadata": {
    "collapsed": true
   },
   "outputs": [],
   "source": [
    "def measure_segragation(G,C):\n",
    "    H = np.multiply(G,C)\n",
    "    \n",
    "    G_happiness = np.multiply(G,C)     \n",
    "    return np.sum(G_happiness)"
   ]
  },
  {
   "cell_type": "markdown",
   "metadata": {},
   "source": [
    "**Exercise.** Use the above function to execute one round of moves of unhappy campers for both tribes."
   ]
  },
  {
   "cell_type": "code",
   "execution_count": 13,
   "metadata": {
    "collapsed": false
   },
   "outputs": [],
   "source": [
    "SAVED_PEEPS = None\n",
    "SAVED_STEPS = None\n",
    "def run_ca(M=10,N=10,steps=10,unhappy_color_threshold=UNHAPPY_COLOR_THRESHOLD,\n",
    "           prob_occupied=PROB_OCCUPIED,cond_prob_a=COND_PROB_A,radius=RADIUS,cond_prob_neighbor=COND_PROB_NEIGHBOR ):\n",
    "    global SAVED_STEPS, SAVED_PEEPS\n",
    "    #if( ( SAVED_STEPS is None ) or ( SAVED_PEEPS is None ) or steps == SAVED_STEPS):\n",
    "    # Use statement below to interact on the same graph\n",
    "    if( ( SAVED_STEPS is None ) or ( SAVED_PEEPS is None )):    \n",
    "        peeps = create_pop_grid (M, N, prob_occupied, cond_prob_a, radius)\n",
    "        SAVED_PEEPS = peeps\n",
    "    else:\n",
    "        peeps = SAVED_PEEPS\n",
    "    SAVED_STEPS = steps\n",
    "    \n",
    "    random_draw = np.random.uniform (size=(2*radius+1,2*radius+1))\n",
    "    raw_color_grid = measure_color (peeps, random_draw, radius, cond_prob_neighbor)\n",
    "    norm_color_grid = measure_color(peeps, random_draw, radius, cond_prob_neighbor, normalize=True)\n",
    "    \n",
    "    print('Segragation measurement before: ', measure_segragation(peeps, norm_color_grid))\n",
    "          \n",
    "    unhappy_campers = get_unhappy_grid (peeps, norm_color_grid, unhappy_color_threshold)\n",
    "\n",
    "    locs_unhappy_A = get_locations (unhappy_campers == 1)\n",
    "    locs_unhappy_B = get_locations (unhappy_campers == -1)\n",
    "    \n",
    "    avail_grid = is_free_grid (peeps, radius)\n",
    "    \n",
    "    appeals_to_A = (norm_color_grid >= unhappy_color_threshold)\n",
    "    locs_appeal_to_A = get_locations (avail_grid & appeals_to_A)\n",
    "    appeals_to_B = (norm_color_grid < unhappy_color_threshold)\n",
    "    locs_appeal_to_B = get_locations (avail_grid & appeals_to_B)\n",
    "\n",
    "    for step in range(steps):\n",
    "        new_peeps = np.copy (peeps)\n",
    "        swap_grid_random (new_peeps, locs_appeal_to_A, locs_unhappy_A)\n",
    "        swap_grid_random (new_peeps, locs_appeal_to_B, locs_unhappy_B)\n",
    "\n",
    "        # Sanity check: Make sure population counts have not changed!\n",
    "        #print (\"Tribe A: before =\", np.count_nonzero (peeps == 1),\n",
    "        #       \"and after =\", np.count_nonzero (new_peeps == 1))\n",
    "        #print (\"Tribe B: before =\", np.count_nonzero (peeps == -1),\n",
    "        #       \"and after =\", np.count_nonzero (new_peeps == -1))\n",
    "        peeps=new_peeps\n",
    "    norm_color_grid_after = measure_color(peeps, random_draw, radius, cond_prob_neighbor, normalize=True)\n",
    "    print('Segragation measurement after: ', measure_segragation(peeps, norm_color_grid_after))\n",
    "    return peeps\n"
   ]
  },
  {
   "cell_type": "code",
   "execution_count": 14,
   "metadata": {
    "collapsed": false
   },
   "outputs": [],
   "source": [
    "def irun_ca (M,N,steps,unhappy_color_threshold,prob_occupied,cond_prob_a,radius,cond_prob_neighbor):\n",
    "    show_grid(run_ca(M,N,steps,unhappy_color_threshold,prob_occupied,cond_prob_a,radius,cond_prob_neighbor).transpose ())"
   ]
  },
  {
   "cell_type": "code",
   "execution_count": 15,
   "metadata": {
    "collapsed": true
   },
   "outputs": [],
   "source": [
    "from ipywidgets import interact"
   ]
  },
  {
   "cell_type": "code",
   "execution_count": 16,
   "metadata": {
    "collapsed": false
   },
   "outputs": [
    {
     "name": "stdout",
     "output_type": "stream",
     "text": [
      "Segragation measurement before:  27.8954081633\n",
      "Segragation measurement after:  198.474489796\n"
     ]
    },
    {
     "data": {
      "image/png": "[encoded data removed]",
      "text/plain": [
       "<matplotlib.figure.Figure at 0x3088c53668>"
      ]
     },
     "metadata": {},
     "output_type": "display_data"
    }
   ],
   "source": [
    "interact (irun_ca\n",
    "          , N=(10, 100, 10)\n",
    "          , M=(10, 100, 10)\n",
    "          , steps=(1, 500, 1)\n",
    "          , unhappy_color_threshold=(-1, 1, 0.1)\n",
    "          ,cond_prob_a=(0.1, 0.9, 0.1)\n",
    "          ,prob_occupied=(0.1,0.9,0.1)\n",
    "          ,radius=(1,5,1)\n",
    "          ,cond_prob_neighbor=(0, 1, 0.1)\n",
    "          ,use_new_peeps=(True, False))"
   ]
  },
  {
   "cell_type": "code",
   "execution_count": null,
   "metadata": {
    "collapsed": true
   },
   "outputs": [],
   "source": []
  },
  {
   "cell_type": "code",
   "execution_count": null,
   "metadata": {
    "collapsed": true
   },
   "outputs": [],
   "source": []
  }
 ],
 "metadata": {
  "kernelspec": {
   "display_name": "Python 3",
   "language": "python",
   "name": "python3"
  },
  "language_info": {
   "codemirror_mode": {
    "name": "ipython",
    "version": 3
   },
   "file_extension": ".py",
   "mimetype": "text/x-python",
   "name": "python",
   "nbconvert_exporter": "python",
   "pygments_lexer": "ipython3",
   "version": "3.5.1"
  }
 },
 "nbformat": 4,
 "nbformat_minor": 0
}
