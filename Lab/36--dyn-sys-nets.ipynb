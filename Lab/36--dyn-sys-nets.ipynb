{
 "cells": [
  {
   "cell_type": "markdown",
   "metadata": {},
   "source": [
    "# CX 4230, Spring 2016: [36] Dynamical systems on networks\n",
    "\n",
    "This lab accompanies the slides from the last class: https://t-square.gatech.edu/access/content/group/gtc-59b8-dc03-5a67-a5f4-88b8e4d5b69a/cx4230-sp16--34--dyn-sys-nets.pdf"
   ]
  },
  {
   "cell_type": "markdown",
   "metadata": {},
   "source": [
    "## A conceptual model of \"opinion dynamics\"\n",
    "\n",
    "To illustrate the interesting dynamics possible on a network, we'll look at an example considered by [Pluchino et al. (2005)](http://arxiv.org/abs/cond-mat/0410217v2). They were interested in the following question about a network of interacting agents:\n",
    "\n",
    "> Can agents with different intitial states converge to one or a few uniform states?\n",
    "\n",
    "They were especially interested in a social network of people where the \"states\" are differing opinions: if everyone has a different opinion initally, can they still reach agreement? They were inspired by biological systems, like [synchronizing fireflies](https://www.youtube.com/watch?v=a-Vy7NZTGos). For more fun background on this topic, see this TED talk by Steven Strogatz: https://www.youtube.com/watch?v=aSNrKS-sCE0"
   ]
  },
  {
   "cell_type": "markdown",
   "metadata": {},
   "source": [
    "In Pluchino et al.'s mathematical model, they considered $x_i \\equiv x_i(t) \\in \\mathcal{R}$ to be some measure of the \"opinion\" of person $i$. It can be positive or negative, and it can take any value in $(\\infty, \\infty)$. These people are connected in a social network, represented as an undirected graph given by its adjacency matrix, $A \\equiv (a_{ij})$, where $a_{ij} = 1$ if persons $i$ and $j$ are connected, and 0 otherwise.\n",
    "\n",
    "They hypothesized a model of the dynamics of $x_i(t)$ by the system of ODEs,\n",
    "\n",
    "$$\\dfrac{dx_i}{dt} \\equiv f_i(\\vec{x}) \\equiv w_i + \\dfrac{K}{d_i} \\sum_j a_{ij} \\cdot \\sin \\theta_{ij} \\cdot \\exp \\left( -\\alpha \\cdot \\theta_{ij}^2 \\right),$$\n",
    "\n",
    "where $K$ and $\\alpha$ are model parameters, $d_i$ is the degree (number of neighbors) of $i$, and $\\theta_{ij} \\equiv x_j - x_i$, that is, the difference between the opinions of person $i$ and $j$. This formula expresses several modeling ideas."
   ]
  },
  {
   "cell_type": "markdown",
   "metadata": {},
   "source": [
    "One idea is that there is a person-specific rate of change, $w_i$. They took $w_i$ in a population to be randomly distributed; in this notebook, let's assume a normal distribution with some prescribed variance $\\sigma^2$, so that $w_i \\sim \\mathcal{N}(0, \\sigma^2)$."
   ]
  },
  {
   "cell_type": "markdown",
   "metadata": {},
   "source": [
    "The other ideas are about how the interaction between a pair $(i, j)$ of _connected_ people (i.e., $a_{ij} = 1$), expressed relative to their difference, $\\theta_{ij}$. Consider small positive values of $theta_{ij}$, meaning person $j$ feels a little more positively than person $i$; then $\\sin \\theta_{ij}$ will be positive and thus influencing the change in person $i$'s opinion to be more positive. Then, at a certain point ($\\theta_{ij} = \\pi$), the two differ by enough that they start to polarize ($\\sin \\theta_{ij} < 0$). These oscillations continue for still larger $\\theta_{ij}$. However, the oscillatory behavior is moderated by the difference, as expressed in the $\\exp \\left( -\\alpha \\cdot \\theta_{ij}^2 \\right)$ term: the farther the difference the less the influence. The interactions are summed across all neighbors $j$. Lastly, there is a final normalizing factor consisting of a parameter $K$ and normalization by the number of neighbors, or degree, $d_i$."
   ]
  },
  {
   "cell_type": "markdown",
   "metadata": {},
   "source": [
    "Lastly, observe that the $a_{ij}$ in the sum acts as a filter, including contributions only from $\\theta_{ij}$ where $a_{ij} \\neq 0$. Let's use this fact to simplify the notation of the system accordingly. Let\n",
    "\n",
    "* $\\vec{w} \\equiv (w_i)$ be the vector of person-specific change rates;\n",
    "* $D \\equiv \\mbox{diag}(d_i)$ be the _diagonal_ matrix of degrees;\n",
    "* $\\Theta \\equiv (\\theta_{ij})$ be the matrix of all pairwise differences;\n",
    "* $A \\odot B$ denote elementwise multiplication of matrices $A$ and $B$; and\n",
    "* $\\vec{u} \\equiv (1, ..., 1)^T$ be the vector of all ones.\n",
    "\n",
    "The the (sparse) matrix of _filtered_ pairwise differences is $\\hat{\\Theta} \\equiv A \\odot \\Theta$.\n",
    "\n",
    "Now the entire system of ODEs can be written as,\n",
    "\n",
    "$$\n",
    "  \\dfrac{d\\vec{x}}{dt} = \\vec{f}(\\vec{x}) = \\vec{w} + K D^{-1} \\cdot \\sin (\\hat{\\Theta}) \\cdot \\exp (-\\alpha \\cdot \\hat{\\Theta} \\odot \\hat{\\Theta}) \\cdot \\vec{u}.\n",
    "$$"
   ]
  },
  {
   "cell_type": "markdown",
   "metadata": {},
   "source": [
    "## Implementing the model: Preliminaries"
   ]
  },
  {
   "cell_type": "code",
   "execution_count": 4,
   "metadata": {
    "collapsed": true
   },
   "outputs": [],
   "source": [
    "import numpy as np\n",
    "import scipy as sp\n",
    "import scipy.sparse\n",
    "from scipy.integrate import odeint\n",
    "import math"
   ]
  },
  {
   "cell_type": "code",
   "execution_count": 5,
   "metadata": {
    "collapsed": true
   },
   "outputs": [],
   "source": [
    "# Core plotting support\n",
    "import matplotlib.pyplot as plt\n",
    "%matplotlib inline"
   ]
  },
  {
   "cell_type": "markdown",
   "metadata": {},
   "source": [
    "For simplicity, let's assume a 2-D grid graph, that is, the graph that is an $n \\times n$ lattice of nodes, where each node is connected to its 8 nearest neighbors. The following code cell downloads a handy module that helps construct the matrix $A$ corresponding to this graph."
   ]
  },
  {
   "cell_type": "code",
   "execution_count": 6,
   "metadata": {
    "collapsed": false
   },
   "outputs": [],
   "source": [
    "import os ; os.makedirs ('cx4230', exist_ok=True)\n",
    "\n",
    "# http://stackoverflow.com/questions/7243750/download-file-from-web-in-python-3\n",
    "import urllib.request\n",
    "MOD_URL = 'https://github.com/rvuduc/cx4230-ipynbs/raw/master/cx4230/pyamg_stencil.py'\n",
    "MOD_LOCAL = 'cx4230/pyamg_stencil.py'\n",
    "urllib.request.urlretrieve (MOD_URL, MOD_LOCAL)\n",
    "\n",
    "%reload_ext autoreload\n",
    "%autoreload 2\n",
    "\n",
    "from cx4230 import pyamg_stencil\n",
    "from cx4230.pyamg_stencil import stencil_grid"
   ]
  },
  {
   "cell_type": "code",
   "execution_count": 7,
   "metadata": {
    "collapsed": false
   },
   "outputs": [
    {
     "name": "stdout",
     "output_type": "stream",
     "text": [
      "(16, 16)\n",
      "[[0 1 0 0 1 1 0 0 0 0 0 0 0 0 0 0]\n",
      " [1 0 1 0 1 1 1 0 0 0 0 0 0 0 0 0]\n",
      " [0 1 0 1 0 1 1 1 0 0 0 0 0 0 0 0]\n",
      " [0 0 1 0 0 0 1 1 0 0 0 0 0 0 0 0]\n",
      " [1 1 0 0 0 1 0 0 1 1 0 0 0 0 0 0]\n",
      " [1 1 1 0 1 0 1 0 1 1 1 0 0 0 0 0]\n",
      " [0 1 1 1 0 1 0 1 0 1 1 1 0 0 0 0]\n",
      " [0 0 1 1 0 0 1 0 0 0 1 1 0 0 0 0]\n",
      " [0 0 0 0 1 1 0 0 0 1 0 0 1 1 0 0]\n",
      " [0 0 0 0 1 1 1 0 1 0 1 0 1 1 1 0]\n",
      " [0 0 0 0 0 1 1 1 0 1 0 1 0 1 1 1]\n",
      " [0 0 0 0 0 0 1 1 0 0 1 0 0 0 1 1]\n",
      " [0 0 0 0 0 0 0 0 1 1 0 0 0 1 0 0]\n",
      " [0 0 0 0 0 0 0 0 1 1 1 0 1 0 1 0]\n",
      " [0 0 0 0 0 0 0 0 0 1 1 1 0 1 0 1]\n",
      " [0 0 0 0 0 0 0 0 0 0 1 1 0 0 1 0]]\n"
     ]
    }
   ],
   "source": [
    "# Demo\n",
    "def gen_grid_graph (n):\n",
    "    S_2d_8nn = np.array ([[1, 1, 1],\n",
    "                          [1, 0, 1],\n",
    "                          [1, 1, 1]])\n",
    "    return stencil_grid (S_2d_8nn, (n, n)).tocsr ()\n",
    "\n",
    "n = 4\n",
    "A_2d = gen_grid_graph (n)\n",
    "\n",
    "print (A_2d.shape)\n",
    "print (A_2d.todense ())"
   ]
  },
  {
   "cell_type": "markdown",
   "metadata": {},
   "source": [
    "Given an arbitrary binary adjacency matrix for an undirected graph, the following function computes the degree of each node."
   ]
  },
  {
   "cell_type": "code",
   "execution_count": 8,
   "metadata": {
    "collapsed": false
   },
   "outputs": [
    {
     "data": {
      "text/plain": [
       "array([[3, 5, 5, 3],\n",
       "       [5, 8, 8, 5],\n",
       "       [5, 8, 8, 5],\n",
       "       [3, 5, 5, 3]], dtype=int32)"
      ]
     },
     "execution_count": 8,
     "metadata": {},
     "output_type": "execute_result"
    }
   ],
   "source": [
    "def degrees (A):\n",
    "    return np.squeeze (np.asarray (sum (A).todense ()))\n",
    "\n",
    "# Demo\n",
    "np.reshape (degrees (A_2d), (n, n))"
   ]
  },
  {
   "cell_type": "markdown",
   "metadata": {},
   "source": [
    "**Exercise.** Write a Python function that, given\n",
    "\n",
    "* a vector `x[:]` of state values, $\\vec{x} \\equiv (x_i)$; and\n",
    "* a matrix `A[:, :]`, which is the adjacency matrix $A \\equiv (a_{ij})$ for an undirected graph stored as a [sparse matrix](http://docs.scipy.org/doc/scipy/reference/sparse.html);\n",
    "\n",
    "write a function that returns the matrix $\\hat{\\Theta} \\equiv (a_{ij} \\cdot (x_j - x_i))$ of differences, also stored as a _sparse matrix_."
   ]
  },
  {
   "cell_type": "code",
   "execution_count": 9,
   "metadata": {
    "collapsed": false
   },
   "outputs": [
    {
     "data": {
      "text/plain": [
       "matrix([[ 0,  1,  0,  0,  4,  5,  0,  0,  0,  0,  0,  0,  0,  0,  0,  0],\n",
       "        [-1,  0,  1,  0,  3,  4,  5,  0,  0,  0,  0,  0,  0,  0,  0,  0],\n",
       "        [ 0, -1,  0,  1,  0,  3,  4,  5,  0,  0,  0,  0,  0,  0,  0,  0],\n",
       "        [ 0,  0, -1,  0,  0,  0,  3,  4,  0,  0,  0,  0,  0,  0,  0,  0],\n",
       "        [-4, -3,  0,  0,  0,  1,  0,  0,  4,  5,  0,  0,  0,  0,  0,  0],\n",
       "        [-5, -4, -3,  0, -1,  0,  1,  0,  3,  4,  5,  0,  0,  0,  0,  0],\n",
       "        [ 0, -5, -4, -3,  0, -1,  0,  1,  0,  3,  4,  5,  0,  0,  0,  0],\n",
       "        [ 0,  0, -5, -4,  0,  0, -1,  0,  0,  0,  3,  4,  0,  0,  0,  0],\n",
       "        [ 0,  0,  0,  0, -4, -3,  0,  0,  0,  1,  0,  0,  4,  5,  0,  0],\n",
       "        [ 0,  0,  0,  0, -5, -4, -3,  0, -1,  0,  1,  0,  3,  4,  5,  0],\n",
       "        [ 0,  0,  0,  0,  0, -5, -4, -3,  0, -1,  0,  1,  0,  3,  4,  5],\n",
       "        [ 0,  0,  0,  0,  0,  0, -5, -4,  0,  0, -1,  0,  0,  0,  3,  4],\n",
       "        [ 0,  0,  0,  0,  0,  0,  0,  0, -4, -3,  0,  0,  0,  1,  0,  0],\n",
       "        [ 0,  0,  0,  0,  0,  0,  0,  0, -5, -4, -3,  0, -1,  0,  1,  0],\n",
       "        [ 0,  0,  0,  0,  0,  0,  0,  0,  0, -5, -4, -3,  0, -1,  0,  1],\n",
       "        [ 0,  0,  0,  0,  0,  0,  0,  0,  0,  0, -5, -4,  0,  0, -1,  0]], dtype=int32)"
      ]
     },
     "execution_count": 9,
     "metadata": {},
     "output_type": "execute_result"
    }
   ],
   "source": [
    "def calc_sparse_diff_pairs (x, A):\n",
    "    \n",
    "    # @YOUSE: Fill in this function\n",
    "    I, J = np.nonzero(A)\n",
    "    V = x[J] - x[I]\n",
    "    Theta_hat = sp.sparse.coo_matrix((V, (I,J)))\n",
    "    return Theta_hat.tocsr()\n",
    "\n",
    "# Demo\n",
    "np.set_printoptions (linewidth=100)\n",
    "calc_sparse_diff_pairs (np.arange (25), A_2d).todense ()"
   ]
  },
  {
   "cell_type": "markdown",
   "metadata": {},
   "source": [
    "Given the preceding function, we can implement the right-hand side of the model, $\\vec{f} \\equiv (f_i(\\vec{x}))$:\n",
    "\n",
    "$$\n",
    "  \\dfrac{d\\vec{x}}{dt} = \\vec{f}(\\vec{x}) = \\vec{w} + K D^{-1} \\cdot \\sin (\\hat{\\Theta}) \\cdot \\exp (-\\alpha \\cdot \\hat{\\Theta} \\odot \\hat{\\Theta}) \\cdot \\vec{u}.\n",
    "$$"
   ]
  },
  {
   "cell_type": "code",
   "execution_count": 10,
   "metadata": {
    "collapsed": false
   },
   "outputs": [],
   "source": [
    "def F (x, A, w, k, alpha):\n",
    "    d = degrees (A)\n",
    "    Theta_hat = calc_sparse_diff_pairs (x, A)\n",
    "\n",
    "    I, J = np.nonzero (A)\n",
    "    V = Theta_hat[I, J] # non-zero values of Theta_hat\n",
    "    \n",
    "    V_S = np.sin (V)\n",
    "    V_E = np.exp (-alpha * np.multiply (V, V))\n",
    "    V = np.multiply (V_S, V_E)\n",
    "    V = np.squeeze (np.asarray (V))\n",
    "    S = sp.sparse.coo_matrix ((V, (I, J)))\n",
    "    \n",
    "    u = np.ones (x.shape)\n",
    "    \n",
    "    return w + k/d * (S.dot (u))"
   ]
  },
  {
   "cell_type": "code",
   "execution_count": 11,
   "metadata": {
    "collapsed": false
   },
   "outputs": [
    {
     "name": "stdout",
     "output_type": "stream",
     "text": [
      "x_0: [ 0.  0.  0.  0.  0.  0.  0.  0.  0.  0.  0.  0.  0.  0.  0.  0.  0.  0.  0.  0.  0.  0.  0.  0.  0.\n",
      "  0.  0.  0.  0.  0.  0.  0.  0.  0.  0.  0.  0.  0.  0.  0.  0.  0.  0.  0.  0.  0.  0.  0.  0.  0.\n",
      "  0.  0.  0.  0.  0.  0.  0.  0.  0.  0.  0.  0.  0.  0.]\n",
      "F (x_0): [-0.85265549  0.83475443 -1.03936139  0.8084353  -0.43343721  0.02334154  0.24761179 -0.58190095\n",
      "  0.94450899  0.48311633 -0.33112839  0.74057246 -0.01792811  0.29915382 -1.2693423  -1.15286464\n",
      "  2.26380437 -1.17622238 -1.98215662 -2.53963625 -0.28245592 -0.22817944  0.66484431  0.84485114\n",
      " -0.50296022 -0.13122463  0.03012522  0.41218591  0.62167772  0.06027359 -1.55583424 -1.15992636\n",
      " -0.10013664 -0.66359596 -0.11502343  1.41735372  0.44368587 -0.82693248  0.01468482  0.11404402\n",
      " -1.43383935 -0.99883361  0.6461436   0.68211995  0.48510029  0.23652924  1.0967469   0.07780639\n",
      " -0.77496427  0.63928864  0.777102    0.49722139 -1.32364796  1.76829694  0.80276745  0.37570043\n",
      "  1.34365628  1.46789406 -0.72009722  0.76414531  0.76672274 -0.93592925  0.19100979  1.66888806]\n",
      "x_t: [[  0.           0.           0.           0.           0.           0.           0.           0.\n",
      "    0.           0.           0.           0.           0.           0.           0.           0.\n",
      "    0.           0.           0.           0.           0.           0.           0.           0.\n",
      "    0.           0.           0.           0.           0.           0.           0.           0.\n",
      "    0.           0.           0.           0.           0.           0.           0.           0.\n",
      "    0.           0.           0.           0.           0.           0.           0.           0.\n",
      "    0.           0.           0.           0.           0.           0.           0.           0.\n",
      "    0.           0.           0.           0.           0.           0.           0.           0.        ]\n",
      " [ -8.49900318   8.36608426 -10.36140254   8.00412462  -4.26661885   0.23903044   2.45627427\n",
      "   -5.8488845    9.3633072    4.84178543  -3.30996785   7.40814788  -0.18624858   2.91051645\n",
      "  -12.62636631 -11.55745841  22.61757211 -11.73737896 -19.80936741 -25.37260558  -2.73356446\n",
      "   -2.24901411   6.63786784   8.38431078  -5.04596404  -1.28481654   0.23395393   4.13739387\n",
      "    6.1386721    0.56983985 -15.51849427 -11.59806754  -1.07578931  -6.58427542  -1.11613814\n",
      "   14.12803331   4.45595188  -8.24412437   0.25037988   1.05559393 -14.28320866  -9.93804583\n",
      "    6.47127885   6.75649327   4.85212343   2.3994426   10.92443108   0.80080054  -7.78917945\n",
      "    6.4321435    7.6363589    5.08052571 -13.20349761  17.64916323   8.01607413   3.71799963\n",
      "   13.50914992  14.58834011  -7.17181029   7.60590107   7.62900327  -9.36094616   1.97665258\n",
      "   16.65109823]]\n"
     ]
    },
    {
     "data": {
      "image/png": "[encoded data removed]",
      "text/plain": [
       "<matplotlib.figure.Figure at 0xb012328a90>"
      ]
     },
     "metadata": {},
     "output_type": "display_data"
    }
   ],
   "source": [
    "n = 8\n",
    "SIGMA = 1.0\n",
    "N = n*n\n",
    "w = np.random.normal (scale=SIGMA, size=N)\n",
    "K = 0.1\n",
    "ALPHA = 1.0\n",
    "A_2d = gen_grid_graph (n)\n",
    "\n",
    "x_0 = np.zeros (N)\n",
    "print (\"x_0:\", x_0)\n",
    "print (\"F (x_0):\", F (x_0, A_2d, w, K, ALPHA))\n",
    "\n",
    "def F_ode (x, t, A, w, k, alpha):\n",
    "    return F (x, A, w, k, alpha)\n",
    "\n",
    "t_all = [0.0, 10.0]\n",
    "x_t = odeint (F_ode, x_0, t_all, args=(A_2d, w, K, ALPHA))\n",
    "print (\"x_t:\", x_t)\n",
    "plt.pcolor (np.reshape (x_t[1], (n, n)))\n",
    "plt.colorbar ()\n",
    "plt.axes().set_aspect('equal')"
   ]
  },
  {
   "cell_type": "code",
   "execution_count": 12,
   "metadata": {
    "collapsed": false
   },
   "outputs": [
    {
     "name": "stdout",
     "output_type": "stream",
     "text": [
      "n: 8\n",
      "w: [ 1.17759072 -0.23641957 -0.66717717  0.64997063  0.60543253 -0.6299541  -0.44736264  0.06787954\n",
      " -0.57012201 -1.43379409 -0.05153295 -2.32879532 -0.79072198  0.65401353  0.14975139 -0.65467971\n",
      "  1.29384009 -0.78786303 -0.25911497 -1.24517665 -0.20050587 -0.76176191  0.70882762  1.06209185\n",
      "  0.84159229 -0.21382899  1.5593501  -1.72292313  2.04575342  1.0621427   1.0658803  -1.53916172\n",
      " -0.68398623  0.03014162 -0.21689439 -1.06486441  1.17603813  1.00286685 -0.42853118 -1.86671676\n",
      " -2.08554373 -0.35491544  0.11588632  2.10619534 -1.82394692 -0.43532247  0.29416865 -0.04924534\n",
      "  1.15937824  1.65593266 -1.43670197  1.312741    0.69082767  1.06444942 -0.84913143  1.01994297\n",
      "  0.26076538  0.07813747 -1.00554084  0.7746188  -1.1147829   0.12680142  0.90483712  1.45091335]\n"
     ]
    }
   ],
   "source": [
    "n = 8\n",
    "SIGMA = 1.0\n",
    "N = n*n\n",
    "w = np.random.normal (scale=SIGMA, size=N)\n",
    "print (\"n:\", n)\n",
    "print (\"w:\", w)\n",
    "\n",
    "def sim (x_0, k, alpha, t):\n",
    "    t_all = np.array ([0.0, t])\n",
    "    x_t = odeint (F_ode, x_0, t_all, args=(A_2d, w, k, alpha))\n",
    "    return x_t[1]\n",
    "\n",
    "def isim (k=0.0, alpha=1.0, t=0.0):\n",
    "    x_t = sim (x_0, k, alpha, t)\n",
    "    plt.pcolor (np.reshape (x_t, (n, n)))\n",
    "    plt.colorbar ()\n",
    "    plt.axes().set_aspect('equal')\n",
    "    print (\"(k=%g, alpha=%g, t=%g) done!\" % (k, alpha, t))"
   ]
  },
  {
   "cell_type": "code",
   "execution_count": 13,
   "metadata": {
    "collapsed": false
   },
   "outputs": [
    {
     "name": "stdout",
     "output_type": "stream",
     "text": [
      "(k=0, alpha=1, t=10) done!\n"
     ]
    },
    {
     "data": {
      "image/png": "[encoded data removed]",
      "text/plain": [
       "<matplotlib.figure.Figure at 0xb0125b11d0>"
      ]
     },
     "metadata": {},
     "output_type": "display_data"
    }
   ],
   "source": [
    "isim (0.0, alpha=1.0, t=10.0)"
   ]
  },
  {
   "cell_type": "code",
   "execution_count": 14,
   "metadata": {
    "collapsed": false
   },
   "outputs": [
    {
     "name": "stdout",
     "output_type": "stream",
     "text": [
      "(k=10, alpha=1, t=6) done!\n"
     ]
    },
    {
     "data": {
      "image/png": "[encoded data removed]",
      "text/plain": [
       "<matplotlib.figure.Figure at 0xb01350d7f0>"
      ]
     },
     "metadata": {},
     "output_type": "display_data"
    }
   ],
   "source": [
    "from ipywidgets import interact\n",
    "interact (isim, k=(0.0, 10.0, 1.0), alpha=(0.1, 1.0, 0.1), t=(0.0, 10.0, 1.0)) ;"
   ]
  },
  {
   "cell_type": "markdown",
   "metadata": {},
   "source": [
    "**Exercise.** What do you observe as `k` increases from `0` to `10`?"
   ]
  },
  {
   "cell_type": "markdown",
   "metadata": {},
   "source": [
    "> Your answer here: as k increases, the grid becomes more synchronized\n"
   ]
  },
  {
   "cell_type": "code",
   "execution_count": null,
   "metadata": {
    "collapsed": true
   },
   "outputs": [],
   "source": []
  },
  {
   "cell_type": "code",
   "execution_count": null,
   "metadata": {
    "collapsed": true
   },
   "outputs": [],
   "source": []
  }
 ],
 "metadata": {
  "kernelspec": {
   "display_name": "Python 3",
   "language": "python",
   "name": "python3"
  },
  "language_info": {
   "codemirror_mode": {
    "name": "ipython",
    "version": 3
   },
   "file_extension": ".py",
   "mimetype": "text/x-python",
   "name": "python",
   "nbconvert_exporter": "python",
   "pygments_lexer": "ipython3",
   "version": "3.5.1"
  }
 },
 "nbformat": 4,
 "nbformat_minor": 0
}
