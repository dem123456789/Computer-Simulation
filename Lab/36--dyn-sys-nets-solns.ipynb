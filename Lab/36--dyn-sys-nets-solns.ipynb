{
 "cells": [
  {
   "cell_type": "markdown",
   "metadata": {},
   "source": [
    "# CX 4230, Spring 2016: [36] Dynamical systems on networks\n",
    "\n",
    "## (Sample solutions)\n",
    "\n",
    "This lab accompanies the slides from the last class: https://t-square.gatech.edu/access/content/group/gtc-59b8-dc03-5a67-a5f4-88b8e4d5b69a/cx4230-sp16--34--dyn-sys-nets.pdf"
   ]
  },
  {
   "cell_type": "markdown",
   "metadata": {},
   "source": [
    "## A conceptual model of \"opinion dynamics\"\n",
    "\n",
    "To illustrate the interesting dynamics possible on a network, we'll look at an example considered by [Pluchino et al. (2005)](http://arxiv.org/abs/cond-mat/0410217v2). They were interested in the following question about a network of interacting agents:\n",
    "\n",
    "> Can agents with different intitial states converge to one or a few uniform states?\n",
    "\n",
    "They were especially interested in a social network of people where the \"states\" are differing opinions: if everyone has a different opinion initally, can they still reach agreement? They were inspired by biological systems, like [synchronizing fireflies](https://www.youtube.com/watch?v=a-Vy7NZTGos). For more fun background on this topic, see this TED talk by Steven Strogatz: https://www.youtube.com/watch?v=aSNrKS-sCE0"
   ]
  },
  {
   "cell_type": "markdown",
   "metadata": {},
   "source": [
    "In Pluchino et al.'s mathematical model, they considered $x_i \\equiv x_i(t) \\in \\mathcal{R}$ to be some measure of the \"opinion\" of person $i$. It can be positive or negative, and it can take any value in $(\\infty, \\infty)$. These people are connected in a social network, represented as an undirected graph given by its adjacency matrix, $A \\equiv (a_{ij})$, where $a_{ij} = 1$ if persons $i$ and $j$ are connected, and 0 otherwise.\n",
    "\n",
    "They hypothesized a model of the dynamics of $x_i(t)$ by the system of ODEs,\n",
    "\n",
    "$$\\dfrac{dx_i}{dt} \\equiv f_i(\\vec{x}) \\equiv w_i + \\dfrac{K}{d_i} \\sum_j a_{ij} \\cdot \\sin \\theta_{ij} \\cdot \\exp \\left( -\\alpha \\cdot \\theta_{ij}^2 \\right),$$\n",
    "\n",
    "where $K$ and $\\alpha$ are model parameters, $d_i$ is the degree (number of neighbors) of $i$, and $\\theta_{ij} \\equiv x_j - x_i$, that is, the difference between the opinions of person $i$ and $j$. This formula expresses several modeling ideas."
   ]
  },
  {
   "cell_type": "markdown",
   "metadata": {},
   "source": [
    "One idea is that there is a person-specific rate of change, $w_i$. They took $w_i$ in a population to be randomly distributed; in this notebook, let's assume a normal distribution with some prescribed variance $\\sigma^2$, so that $w_i \\sim \\mathcal{N}(0, \\sigma^2)$."
   ]
  },
  {
   "cell_type": "markdown",
   "metadata": {},
   "source": [
    "The other ideas are about how the interaction between a pair $(i, j)$ of _connected_ people (i.e., $a_{ij} = 1$), expressed relative to their difference, $\\theta_{ij}$. Consider small positive values of $theta_{ij}$, meaning person $j$ feels a little more positively than person $i$; then $\\sin \\theta_{ij}$ will be positive and thus influencing the change in person $i$'s opinion to be more positive. Then, at a certain point ($\\theta_{ij} = \\pi$), the two differ by enough that they start to polarize ($\\sin \\theta_{ij} < 0$). These oscillations continue for still larger $\\theta_{ij}$. However, the oscillatory behavior is moderated by the difference, as expressed in the $\\exp \\left( -\\alpha \\cdot \\theta_{ij}^2 \\right)$ term: the farther the difference the less the influence. The interactions are summed across all neighbors $j$. Lastly, there is a final normalizing factor consisting of a parameter $K$ and normalization by the number of neighbors, or degree, $d_i$."
   ]
  },
  {
   "cell_type": "markdown",
   "metadata": {},
   "source": [
    "Lastly, observe that the $a_{ij}$ in the sum acts as a filter, including contributions only from $\\theta_{ij}$ where $a_{ij} \\neq 0$. Let's use this fact to simplify the notation of the system accordingly. Let\n",
    "\n",
    "* $\\vec{w} \\equiv (w_i)$ be the vector of person-specific change rates;\n",
    "* $D \\equiv \\mbox{diag}(d_i)$ be the _diagonal_ matrix of degrees;\n",
    "* $\\Theta \\equiv (\\theta_{ij})$ be the matrix of all pairwise differences;\n",
    "* $A \\odot B$ denote elementwise multiplication of matrices $A$ and $B$; and\n",
    "* $\\vec{u} \\equiv (1, ..., 1)^T$ be the vector of all ones.\n",
    "\n",
    "The the (sparse) matrix of _filtered_ pairwise differences is $\\hat{\\Theta} \\equiv A \\odot \\Theta$.\n",
    "\n",
    "Now the entire system of ODEs can be written as,\n",
    "\n",
    "$$\n",
    "  \\dfrac{d\\vec{x}}{dt} = \\vec{f}(\\vec{x}) = \\vec{w} + K D^{-1} \\cdot \\sin (\\hat{\\Theta}) \\cdot \\exp (-\\alpha \\cdot \\hat{\\Theta} \\odot \\hat{\\Theta}) \\cdot \\vec{u}.\n",
    "$$"
   ]
  },
  {
   "cell_type": "markdown",
   "metadata": {},
   "source": [
    "## Implementing the model: Preliminaries"
   ]
  },
  {
   "cell_type": "code",
   "execution_count": 1,
   "metadata": {
    "collapsed": true
   },
   "outputs": [],
   "source": [
    "import numpy as np\n",
    "import scipy as sp\n",
    "import scipy.sparse\n",
    "from scipy.integrate import odeint\n",
    "import math"
   ]
  },
  {
   "cell_type": "code",
   "execution_count": 2,
   "metadata": {
    "collapsed": true
   },
   "outputs": [],
   "source": [
    "# Core plotting support\n",
    "import matplotlib.pyplot as plt\n",
    "%matplotlib inline"
   ]
  },
  {
   "cell_type": "markdown",
   "metadata": {},
   "source": [
    "For simplicity, let's assume a 2-D grid graph, that is, the graph that is an $n \\times n$ lattice of nodes, where each node is connected to its 8 nearest neighbors. The following code cell downloads a handy module that helps construct the matrix $A$ corresponding to this graph."
   ]
  },
  {
   "cell_type": "code",
   "execution_count": 3,
   "metadata": {
    "collapsed": false
   },
   "outputs": [],
   "source": [
    "import os ; os.makedirs ('cx4230', exist_ok=True)\n",
    "\n",
    "# http://stackoverflow.com/questions/7243750/download-file-from-web-in-python-3\n",
    "import urllib.request\n",
    "MOD_URL = 'https://github.com/rvuduc/cx4230-ipynbs/raw/master/cx4230/pyamg_stencil.py'\n",
    "MOD_LOCAL = 'cx4230/pyamg_stencil.py'\n",
    "urllib.request.urlretrieve (MOD_URL, MOD_LOCAL)\n",
    "\n",
    "%reload_ext autoreload\n",
    "%autoreload 2\n",
    "\n",
    "from cx4230 import pyamg_stencil\n",
    "from cx4230.pyamg_stencil import stencil_grid"
   ]
  },
  {
   "cell_type": "code",
   "execution_count": 97,
   "metadata": {
    "collapsed": false
   },
   "outputs": [
    {
     "name": "stdout",
     "output_type": "stream",
     "text": [
      "(16, 16)\n",
      "[[0 1 0 0 1 1 0 0 0 0 0 0 0 0 0 0]\n",
      " [1 0 1 0 1 1 1 0 0 0 0 0 0 0 0 0]\n",
      " [0 1 0 1 0 1 1 1 0 0 0 0 0 0 0 0]\n",
      " [0 0 1 0 0 0 1 1 0 0 0 0 0 0 0 0]\n",
      " [1 1 0 0 0 1 0 0 1 1 0 0 0 0 0 0]\n",
      " [1 1 1 0 1 0 1 0 1 1 1 0 0 0 0 0]\n",
      " [0 1 1 1 0 1 0 1 0 1 1 1 0 0 0 0]\n",
      " [0 0 1 1 0 0 1 0 0 0 1 1 0 0 0 0]\n",
      " [0 0 0 0 1 1 0 0 0 1 0 0 1 1 0 0]\n",
      " [0 0 0 0 1 1 1 0 1 0 1 0 1 1 1 0]\n",
      " [0 0 0 0 0 1 1 1 0 1 0 1 0 1 1 1]\n",
      " [0 0 0 0 0 0 1 1 0 0 1 0 0 0 1 1]\n",
      " [0 0 0 0 0 0 0 0 1 1 0 0 0 1 0 0]\n",
      " [0 0 0 0 0 0 0 0 1 1 1 0 1 0 1 0]\n",
      " [0 0 0 0 0 0 0 0 0 1 1 1 0 1 0 1]\n",
      " [0 0 0 0 0 0 0 0 0 0 1 1 0 0 1 0]]\n"
     ]
    }
   ],
   "source": [
    "# Demo\n",
    "def gen_grid_graph (n):\n",
    "    S_2d_8nn = np.array ([[1, 1, 1],\n",
    "                          [1, 0, 1],\n",
    "                          [1, 1, 1]])\n",
    "    return stencil_grid (S_2d_8nn, (n, n)).tocsr ()\n",
    "\n",
    "n = 4\n",
    "A_2d = gen_grid_graph (n)\n",
    "\n",
    "print (A_2d.shape)\n",
    "print (A_2d.todense ())"
   ]
  },
  {
   "cell_type": "markdown",
   "metadata": {},
   "source": [
    "Given an arbitrary binary adjacency matrix for an undirected graph, the following function computes the degree of each node."
   ]
  },
  {
   "cell_type": "code",
   "execution_count": 98,
   "metadata": {
    "collapsed": false
   },
   "outputs": [
    {
     "data": {
      "text/plain": [
       "array([[3, 5, 5, 3],\n",
       "       [5, 8, 8, 5],\n",
       "       [5, 8, 8, 5],\n",
       "       [3, 5, 5, 3]], dtype=int64)"
      ]
     },
     "execution_count": 98,
     "metadata": {},
     "output_type": "execute_result"
    }
   ],
   "source": [
    "def degrees (A):\n",
    "    return np.squeeze (np.asarray (sum (A).todense ()))\n",
    "\n",
    "# Demo\n",
    "np.reshape (degrees (A_2d), (n, n))"
   ]
  },
  {
   "cell_type": "markdown",
   "metadata": {},
   "source": [
    "**Exercise.** Write a Python function that, given\n",
    "\n",
    "* a vector `x[:]` of state values, $\\vec{x} \\equiv (x_i)$; and\n",
    "* a matrix `A[:, :]`, which is the adjacency matrix $A \\equiv (a_{ij})$ for an undirected graph stored as a [sparse matrix](http://docs.scipy.org/doc/scipy/reference/sparse.html);\n",
    "\n",
    "write a function that returns the matrix $\\hat{\\Theta} \\equiv (a_{ij} \\cdot (x_j - x_i))$ of differences, also stored as a _sparse matrix_."
   ]
  },
  {
   "cell_type": "code",
   "execution_count": 99,
   "metadata": {
    "collapsed": false
   },
   "outputs": [
    {
     "data": {
      "text/plain": [
       "matrix([[ 0,  1,  0,  0,  4,  5,  0,  0,  0,  0,  0,  0,  0,  0,  0,  0],\n",
       "        [-1,  0,  1,  0,  3,  4,  5,  0,  0,  0,  0,  0,  0,  0,  0,  0],\n",
       "        [ 0, -1,  0,  1,  0,  3,  4,  5,  0,  0,  0,  0,  0,  0,  0,  0],\n",
       "        [ 0,  0, -1,  0,  0,  0,  3,  4,  0,  0,  0,  0,  0,  0,  0,  0],\n",
       "        [-4, -3,  0,  0,  0,  1,  0,  0,  4,  5,  0,  0,  0,  0,  0,  0],\n",
       "        [-5, -4, -3,  0, -1,  0,  1,  0,  3,  4,  5,  0,  0,  0,  0,  0],\n",
       "        [ 0, -5, -4, -3,  0, -1,  0,  1,  0,  3,  4,  5,  0,  0,  0,  0],\n",
       "        [ 0,  0, -5, -4,  0,  0, -1,  0,  0,  0,  3,  4,  0,  0,  0,  0],\n",
       "        [ 0,  0,  0,  0, -4, -3,  0,  0,  0,  1,  0,  0,  4,  5,  0,  0],\n",
       "        [ 0,  0,  0,  0, -5, -4, -3,  0, -1,  0,  1,  0,  3,  4,  5,  0],\n",
       "        [ 0,  0,  0,  0,  0, -5, -4, -3,  0, -1,  0,  1,  0,  3,  4,  5],\n",
       "        [ 0,  0,  0,  0,  0,  0, -5, -4,  0,  0, -1,  0,  0,  0,  3,  4],\n",
       "        [ 0,  0,  0,  0,  0,  0,  0,  0, -4, -3,  0,  0,  0,  1,  0,  0],\n",
       "        [ 0,  0,  0,  0,  0,  0,  0,  0, -5, -4, -3,  0, -1,  0,  1,  0],\n",
       "        [ 0,  0,  0,  0,  0,  0,  0,  0,  0, -5, -4, -3,  0, -1,  0,  1],\n",
       "        [ 0,  0,  0,  0,  0,  0,  0,  0,  0,  0, -5, -4,  0,  0, -1,  0]], dtype=int64)"
      ]
     },
     "execution_count": 99,
     "metadata": {},
     "output_type": "execute_result"
    }
   ],
   "source": [
    "def calc_sparse_diff_pairs (x, A):\n",
    "    # @YOUSE: Fill in this function\n",
    "    I, J = np.nonzero (A)\n",
    "    Thetas = x[J] - x[I]\n",
    "    return sp.sparse.coo_matrix ((Thetas, (I, J))).tocsr ()\n",
    "\n",
    "# Demo\n",
    "np.set_printoptions (linewidth=100)\n",
    "calc_sparse_diff_pairs (np.arange (25), A_2d).todense ()"
   ]
  },
  {
   "cell_type": "markdown",
   "metadata": {},
   "source": [
    "Given the preceding function, we can implement the right-hand side of the model, $\\vec{f} \\equiv (f_i(\\vec{x}))$:\n",
    "\n",
    "$$\n",
    "  \\dfrac{d\\vec{x}}{dt} = \\vec{f}(\\vec{x}) = \\vec{w} + K D^{-1} \\cdot \\sin (\\hat{\\Theta}) \\cdot \\exp (-\\alpha \\cdot \\hat{\\Theta} \\odot \\hat{\\Theta}) \\cdot \\vec{u}.\n",
    "$$"
   ]
  },
  {
   "cell_type": "code",
   "execution_count": 100,
   "metadata": {
    "collapsed": false
   },
   "outputs": [],
   "source": [
    "def F (x, A, w, k, alpha):\n",
    "    d = degrees (A)\n",
    "    Theta_hat = calc_sparse_diff_pairs (x, A)\n",
    "\n",
    "    I, J = np.nonzero (A)\n",
    "    V = Theta_hat[I, J] # non-zero values of Theta_hat\n",
    "    \n",
    "    V_S = np.sin (V)\n",
    "    V_E = np.exp (-alpha * np.multiply (V, V))\n",
    "    V = np.multiply (V_S, V_E)\n",
    "    V = np.squeeze (np.asarray (V))\n",
    "    S = sp.sparse.coo_matrix ((V, (I, J)))\n",
    "    \n",
    "    u = np.ones (x.shape)\n",
    "    \n",
    "    return w + k/d * (S.dot (u))"
   ]
  },
  {
   "cell_type": "code",
   "execution_count": 101,
   "metadata": {
    "collapsed": false
   },
   "outputs": [
    {
     "name": "stdout",
     "output_type": "stream",
     "text": [
      "x_0: [ 0.  0.  0.  0.  0.  0.  0.  0.  0.  0.  0.  0.  0.  0.  0.  0.  0.  0.  0.  0.  0.  0.  0.  0.  0.\n",
      "  0.  0.  0.  0.  0.  0.  0.  0.  0.  0.  0.  0.  0.  0.  0.  0.  0.  0.  0.  0.  0.  0.  0.  0.  0.\n",
      "  0.  0.  0.  0.  0.  0.  0.  0.  0.  0.  0.  0.  0.  0.]\n",
      "F (x_0): [ 0.91731365  0.37556483 -0.78773703  0.08062358 -0.24325266  1.1603015  -0.02678709 -1.06565812\n",
      "  0.30348151 -0.73009275 -0.32307308  0.41521872 -1.46421293 -1.10585599  0.80766322 -0.02583804\n",
      " -1.19173441 -0.07539222 -0.69103234 -0.31657073 -0.77977494  0.10838614  1.05115608  0.60684749\n",
      " -0.76907083  0.61179881 -0.35042011 -0.30206717 -1.60786223  0.88293191 -1.44837506  2.47879768\n",
      " -0.20594698 -0.17296078  0.02761426 -1.17510741  0.47408001 -0.19666184 -0.16018586 -1.01522464\n",
      " -0.23423289  0.26386892 -2.22660645  1.82077322 -1.55931665  1.34967404 -0.55426351 -0.4270773\n",
      "  0.93166933  1.2573297   0.20044342  0.56723422 -0.25253752  1.34588086  0.39644562 -0.35672823\n",
      "  1.25110443 -0.12210466 -0.40186345 -1.02313724  0.21846706 -0.2261804   0.51414027  0.87277581]\n",
      "x_t: [[  0.           0.           0.           0.           0.           0.           0.           0.\n",
      "    0.           0.           0.           0.           0.           0.           0.           0.\n",
      "    0.           0.           0.           0.           0.           0.           0.           0.\n",
      "    0.           0.           0.           0.           0.           0.           0.           0.\n",
      "    0.           0.           0.           0.           0.           0.           0.           0.\n",
      "    0.           0.           0.           0.           0.           0.           0.           0.\n",
      "    0.           0.           0.           0.           0.           0.           0.           0.\n",
      "    0.           0.           0.           0.           0.           0.           0.           0.        ]\n",
      " [  9.11372108   3.69180756  -7.78957734   0.76698403  -2.40249596  11.55787886  -0.26243385\n",
      "  -10.62111459   3.06514956  -7.27940829  -3.21969574   4.09581083 -14.59810467 -11.03379194\n",
      "    8.06120066  -0.23877568 -11.85961776  -0.80556426  -6.85695037  -3.19791421  -7.79171336\n",
      "    1.08366911  10.43263173   6.11882001  -7.66220861   6.07017455  -3.42116639  -3.06376396\n",
      "  -16.03932965   8.8232451  -14.45105276  24.76952336  -2.03906224  -1.77011715   0.24745756\n",
      "  -11.76091492   4.74091539  -1.95963018  -1.65479314 -10.12635407  -2.24734475   2.56280529\n",
      "  -22.24680617  18.18587475 -15.560441    13.46747645  -5.44752937  -4.24817512   9.34372347\n",
      "   12.52887474   2.02407101   5.62602961  -2.49154557  13.43264367   3.99665825  -3.63715259\n",
      "   12.46561286  -1.2045682   -3.97279632 -10.18665616   2.17168785  -2.23826139   5.09532355\n",
      "    8.64303864]]\n"
     ]
    },
    {
     "data": {
      "image/png": "[encoded data removed]",
      "text/plain": [
       "<matplotlib.figure.Figure at 0x10644ff98>"
      ]
     },
     "metadata": {},
     "output_type": "display_data"
    }
   ],
   "source": [
    "n = 8\n",
    "SIGMA = 1.0\n",
    "N = n*n\n",
    "w = np.random.normal (scale=SIGMA, size=N)\n",
    "K = 0.1\n",
    "ALPHA = 1.0\n",
    "A_2d = gen_grid_graph (n)\n",
    "\n",
    "x_0 = np.zeros (N)\n",
    "print (\"x_0:\", x_0)\n",
    "print (\"F (x_0):\", F (x_0, A_2d, w, K, ALPHA))\n",
    "\n",
    "def F_ode (x, t, A, w, k, alpha):\n",
    "    return F (x, A, w, k, alpha)\n",
    "\n",
    "t_all = [0.0, 10.0]\n",
    "x_t = odeint (F_ode, x_0, t_all, args=(A_2d, w, K, ALPHA))\n",
    "print (\"x_t:\", x_t)\n",
    "plt.pcolor (np.reshape (x_t[1], (n, n)))\n",
    "plt.colorbar ()\n",
    "plt.axes().set_aspect('equal')"
   ]
  },
  {
   "cell_type": "code",
   "execution_count": 112,
   "metadata": {
    "collapsed": false
   },
   "outputs": [
    {
     "name": "stdout",
     "output_type": "stream",
     "text": [
      "n: 8\n",
      "w: [-0.31014667  0.3370895  -0.70224765 -0.46452634  1.92310141 -1.10745459  0.25900398 -0.3957706\n",
      " -1.1711703  -0.56168337 -0.80427137 -0.52113255 -0.92465695 -0.31520411  1.21649965 -0.03111155\n",
      "  0.2026529   0.43612836  0.21232797  0.54982596 -0.98349611 -0.28432129 -0.36573376  0.82750223\n",
      "  0.39204233  2.14929659 -1.16822689  1.62454299 -0.44378027 -0.52462844 -0.43902973  0.57022587\n",
      " -0.07433925  0.90958216 -0.91866888  1.10773503  0.52248929 -1.13732173 -0.0394734   0.36332326\n",
      "  1.46580357  0.16983132  0.17970685 -0.21257352  0.78254293 -1.5046825   2.95151545 -0.81238702\n",
      " -0.18025301  0.8915829  -0.31388927  1.28883393  0.40935706 -0.56926195 -0.50849959 -1.06991556\n",
      "  1.03444708  1.00589212 -0.68305466 -0.2401785   0.47490714 -0.02750172 -0.13652986  2.09015586]\n"
     ]
    }
   ],
   "source": [
    "n = 8\n",
    "SIGMA = 1.0\n",
    "N = n*n\n",
    "w = np.random.normal (scale=SIGMA, size=N)\n",
    "print (\"n:\", n)\n",
    "print (\"w:\", w)\n",
    "\n",
    "def sim (x_0, k, alpha, t):\n",
    "    t_all = np.array ([0.0, t])\n",
    "    x_t = odeint (F_ode, x_0, t_all, args=(A_2d, w, k, alpha))\n",
    "    return x_t[1]\n",
    "\n",
    "def isim (k=0.0, alpha=1.0, t=0.0):\n",
    "    x_t = sim (x_0, k, alpha, t)\n",
    "    plt.pcolor (np.reshape (x_t, (n, n)))\n",
    "    plt.colorbar ()\n",
    "    plt.axes().set_aspect('equal')\n",
    "    print (\"(k=%g, alpha=%g, t=%g) done!\" % (k, alpha, t))"
   ]
  },
  {
   "cell_type": "code",
   "execution_count": 113,
   "metadata": {
    "collapsed": false
   },
   "outputs": [
    {
     "name": "stdout",
     "output_type": "stream",
     "text": [
      "(k=10, alpha=1, t=10) done!\n"
     ]
    },
    {
     "data": {
      "image/png": "[encoded data removed]",
      "text/plain": [
       "<matplotlib.figure.Figure at 0x10a094198>"
      ]
     },
     "metadata": {},
     "output_type": "display_data"
    }
   ],
   "source": [
    "from ipywidgets import interact\n",
    "interact (isim, k=(0.0, 10.0, 1.0), alpha=(0.1, 1.0, 0.1), t=(0.0, 10.0, 1.0)) ;"
   ]
  },
  {
   "cell_type": "markdown",
   "metadata": {},
   "source": [
    "**Exercise.** What do you observe as `k` increases from `0` to `10`?"
   ]
  },
  {
   "cell_type": "markdown",
   "metadata": {},
   "source": []
  }
 ],
 "metadata": {
  "kernelspec": {
   "display_name": "Python 3",
   "language": "python",
   "name": "python3"
  },
  "language_info": {
   "codemirror_mode": {
    "name": "ipython",
    "version": 3
   },
   "file_extension": ".py",
   "mimetype": "text/x-python",
   "name": "python",
   "nbconvert_exporter": "python",
   "pygments_lexer": "ipython3",
   "version": "3.5.1"
  }
 },
 "nbformat": 4,
 "nbformat_minor": 0
}
