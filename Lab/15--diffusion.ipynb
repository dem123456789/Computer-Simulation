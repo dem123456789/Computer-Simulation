{
 "cells": [
  {
   "cell_type": "markdown",
   "metadata": {},
   "source": [
    "# CX 4230, Spring 2016 [15]: Diffusion\n",
    "\n",
    "The last conceptual model we discussed for the SIR infectious disease problem ignored spatial variation. Suppose we want to account for that; how should we do it? This notebook explores the concept (and implementation) of the _1-D diffusion model_."
   ]
  },
  {
   "cell_type": "markdown",
   "metadata": {},
   "source": [
    "## Conceptual modeling technique: 1-D Diffusion PDE\n",
    "\n",
    "In class, we derived a partial differential equation (PDE) for the 1-D diffusion model in two ways. Here is a quick summary of those viewpoints."
   ]
  },
  {
   "cell_type": "markdown",
   "metadata": {},
   "source": [
    "**Diffusion via random walks.** Let $p(x, t)$ denote the probability that a _random walker_ will be at position $x$ at time $t$. This walker exhibits the following behavior:\n",
    "\n",
    "* _(A0: Consistent movement)_ The walker moves consistently. When it takes a step, it goes a distance $\\Delta x$ in time $\\Delta t$.\n",
    "* _(A1: Drunken movement)_ Suppose the walker is at some position at time $t$. It will move right ($+\\Delta x$) with probability $\\alpha_+$ and it will move left ($-\\Delta x$) with probability $\\alpha_- \\equiv 1-\\alpha_+$. It chooses a direction independent of where it happens to be.\n",
    "* _(A2: Markov process)_ The walker's position at time $t + \\Delta t$ depends only on its position at time $t$.\n",
    "* _(A3: Small deltas)_ We are interested in the case of \"small\" $\\Delta x$ and $\\Delta t$.\n",
    "\n",
    "From these assumptions, we used [Taylor's theorem](https://en.wikipedia.org/wiki/Taylor%27s_theorem) to derive a partial differential equation governing the evolution of $p \\equiv p(x, t)$:\n",
    "\n",
    "$$\\begin{eqnarray}\n",
    "  \\dfrac{\\partial p}{\\partial t}\n",
    "    & = & (1 - 2\\alpha_+) \\dfrac{\\Delta x}{\\Delta t} \\dfrac{\\partial p}{\\partial x}\n",
    "          + \\frac{1}{2} \\dfrac{(\\Delta x)^2}{\\Delta t} \\dfrac{\\partial^2 p}{\\partial x^2} .\n",
    "\\end{eqnarray}$$\n",
    "\n",
    "To simplify this model further, assume _unbiased motion_ $\\left(\\alpha_+ = \\alpha_- = \\frac{1}{2}\\right)$, yielding the standard 1-D diffusion equation,\n",
    "\n",
    "$$\\begin{eqnarray}\n",
    "  \\frac{\\partial p}{\\partial t}\n",
    "    & = & c \\frac{\\partial^2 p}{\\partial x^2},\n",
    "\\end{eqnarray}$$\n",
    "\n",
    "where $c \\equiv \\frac{1}{2} \\frac{(\\Delta x)^2}{\\Delta t}$ is the coefficient of diffusion, and has units of squared length over time. For this system to have interesting dynamics, $c$ should be a constant. Furthermore, to determine a solution, we need some boundary conditions, like the initial probabilities everywhere: $p_0(x) \\equiv p(x, 0)$."
   ]
  },
  {
   "cell_type": "markdown",
   "metadata": {},
   "source": [
    "**Diffusion via concentration (population density) gradients.** Let $u(x,t)$ denote a density or concentration of stuff, with units of \"count or amount of stuff per unit length.\" Assume that the stuff exhibits the following behavior:\n",
    "\n",
    "* _(B0: Equilibrating tendencies)_ The stuff wants to spread uniformly over the domain. Put differently, it wants to avoid overcrowding and avoid loneliness.\n",
    "* _(B1: Rate of flow)_ The rate of change in the amount of stuff ...\n",
    "    1. ... increases with differences in nearby concentration; and\n",
    "    2. ... decreases with increasing distance.\n",
    "    \n",
    "Assuming linear relationships for _(B1)_ and adopting a \"sign\" convention of positive flow moving to the right ($+x$), we derived for a given step size $\\Delta x$ and time step $\\Delta t$ the following difference equation:\n",
    "\n",
    "$$\\begin{eqnarray}\n",
    "  \\dfrac{u(x, t+\\Delta t) - u(x, t)}{\\Delta t} = c \\dfrac{u(x + \\Delta x, t) - 2 u(x, t) + u(x - \\Delta x, t)}{(\\Delta x)^2}.\n",
    "\\end{eqnarray}$$\n",
    "\n",
    "In the limit of small $\\Delta t$ and $\\Delta x$ and, again, applying Taylor's theorem, we derived the governing PDE for $u \\equiv u(x, t)$,\n",
    "\n",
    "$$\\begin{eqnarray}\n",
    "  \\dfrac{\\partial u}{\\partial t} & = & c \\dfrac{\\partial^2 u}{\\partial x^2}.\n",
    "\\end{eqnarray}$$\n",
    "\n",
    "Similar to the probability diffusion equation, we need boundary conditions like the initial concentrations everywhere, $u_0(x) \\equiv u(x, 0)$."
   ]
  },
  {
   "cell_type": "markdown",
   "metadata": {},
   "source": [
    "## Building a simulator\n",
    "\n",
    "Given the conceptual model, how do we build a \"simulator\" for this system? One idea is to try to find a way to convert the system into a system of ordinary differential equations (ODEs), for which can then simply invoke a black-box ODE solver, just like before. Recall that such a solver can compute approximate numerical solutions to the system,\n",
    "\n",
    "$$\\begin{eqnarray}\n",
    "  \\vec{y}(t)\n",
    "    \\equiv\n",
    "      \\left(\\begin{array}{c}\n",
    "        y_0(t) \\\\\n",
    "        y_1(t) \\\\\n",
    "        \\vdots \\\\\n",
    "        y_{m-1}(t)\n",
    "      \\end{array}\\right)\n",
    "    & = &\n",
    "      \\left(\\begin{array}{c}\n",
    "        f_0(t, \\vec{y}) \\\\\n",
    "        f_1(t, \\vec{y}) \\\\\n",
    "        \\vdots \\\\\n",
    "        f_{m-1}(t, \\vec{y})\n",
    "      \\end{array}\\right)\n",
    "    \\equiv\n",
    "      \\vec{f}(t, \\vec{y}).\n",
    "\\end{eqnarray}$$\n",
    "\n",
    "Thus, our goal is to transform the original 1-D diffusion model PDE into this form."
   ]
  },
  {
   "cell_type": "markdown",
   "metadata": {},
   "source": [
    "**Finite differences.** We carried out this transformation from a PDE to a system of ODEs using an _approximation_ known as the _finite differencing method_, or _FDM_. FDM consists of two steps."
   ]
  },
  {
   "cell_type": "markdown",
   "metadata": {},
   "source": [
    "_Step 1_) Replace one or more derivatives by approximations expected to be valid under small perturbations. For example, we replaced the second-order spatial derivative with a _centered difference approximation_,\n",
    "\n",
    "$$\\begin{eqnarray}\n",
    "  \\dfrac{\\partial^2 u(x,t)}\n",
    "        {\\partial x^2}\n",
    "    & \\approx &\n",
    "      \\dfrac{u(x+\\Delta x, t) - 2 u(x, t) + u(x-\\Delta x, t)}\n",
    "            {(\\Delta x)^2}.\n",
    "\\end{eqnarray}$$\n",
    "\n",
    "However, we aren't done because the equation still depends on two independent variables."
   ]
  },
  {
   "cell_type": "markdown",
   "metadata": {},
   "source": [
    "_Step 2_) _Discretize_ the spatial domain. For instance, suppose the system is defined on the finite interval $x \\in [0, L]$. Let's replace this continuous domain by a grid of $m$ evenly-spaced points. That is, let $\\Delta x \\equiv \\dfrac{L}{m-1}$ and let the grid consist of the $m$ points, $\\{x_0, x_1, \\ldots, x_{m-1}\\}$, where\n",
    "\n",
    "$$\\begin{eqnarray}\n",
    "  x_i & \\equiv & i \\Delta x = i \\dfrac{L}{m-1}.\n",
    "\\end{eqnarray}$$\n",
    "\n",
    "Next, let's introduce a set of $m$ new state variables to represent the value of the solution $u(x,t)$ at those points:\n",
    "\n",
    "$$\\begin{eqnarray}\n",
    "  u_i(t) & \\equiv & u(x_i, t).\n",
    "\\end{eqnarray}$$"
   ]
  },
  {
   "cell_type": "markdown",
   "metadata": {},
   "source": [
    "The net result of these two steps is a system of ODEs, as desired:\n",
    "\n",
    "$$\n",
    "\\begin{eqnarray}\n",
    "  \\dfrac{d}{dt} \\left(\\begin{array}{c}\n",
    "                   u_0(t) \\\\\n",
    "                   u_1(t) \\\\\n",
    "                   \\vdots \\\\\n",
    "                   u_{m-1}(t)\n",
    "                \\end{array}\\right)\n",
    "    & \\approx &\n",
    "      \\dfrac{c}{(\\Delta x)^2}\\left(\\begin{array}{c}\n",
    "        u_{-1}(t) - 2u_0(t) + u_1(t) \\\\\n",
    "        u_{0}(t) - 2u_1(t) + u_2(t) \\\\\n",
    "        \\vdots \\\\\n",
    "        u_{m-3}(t) - 2u_{m-2}(t) + u_{m-1}(t) \\\\\n",
    "        u_{m-2}(t) - 2u_{m-1}(t) + u_{m}(t)\n",
    "      \\end{array}\\right).\n",
    "\\end{eqnarray}\n",
    "$$"
   ]
  },
  {
   "cell_type": "markdown",
   "metadata": {},
   "source": [
    "**Boundary conditions.** There's a hitch with this system: $u_{-1}(t)$ or $u_{m}(t)$ _do not exist!_\n",
    "\n",
    "Indeed, these are outside the boundaries of our domain. Thus, we need to figure out what to replace them with.\n",
    "\n",
    "You have a number of options. In class, we decided to put up an infinite wall, so that stuff cannot leave the domain. In this case, $u_{-1}(t) \\equiv u_0(t)$ and $u_m(t) \\equiv u_{m-1}(t)$, so that the first and last equations become\n",
    "\n",
    "$$\\begin{eqnarray}\n",
    "      \\dfrac{d}{dt}u_0(t) & \\approx & -u_0(t) + u_1(t) \\\\\n",
    "  \\dfrac{d}{dt}u_{m-1}(t) & \\approx & u_{m-2}(t) - u_{m-1}(t).\n",
    "\\end{eqnarray}$$"
   ]
  },
  {
   "cell_type": "markdown",
   "metadata": {},
   "source": [
    "**Matrix equations.** As a final and purely aesthetic step, we noticed that this system could be expressed more compactly in the language of linear algebra. Letting $\\vec{u} \\equiv \\vec{u}(t)$ be the natural vector of $u_i(t)$ state variables and letting the matrix $A$ be the tridiagonal matrix,\n",
    "\n",
    "$$\n",
    "A \\equiv\n",
    "  \\left(\\begin{array}{r}\n",
    "  -1 &  1 &    &        &    &    \\\\\n",
    "   1 & -2 &  1 &        &    &    \\\\\n",
    "     &  1 & -2 &    1   &    &    \\\\\n",
    "     &    &    & \\ddots &    &    \\\\\n",
    "     &    &    &    1   & -2 &  1 \\\\\n",
    "     &    &    &        &  1 & -1\n",
    "  \\end{array}\\right),\n",
    "$$\n",
    "\n",
    "then the system of ODEs is\n",
    "\n",
    "$$\n",
    "\\begin{eqnarray}\n",
    "  \\dfrac{d}{dt} \\vec{u}(t)\n",
    "    & \\approx & \\dfrac{c}{(\\Delta x)^2} \\cdot A \\cdot \\vec{u}(t).\n",
    "\\end{eqnarray}\n",
    "$$"
   ]
  },
  {
   "cell_type": "markdown",
   "metadata": {},
   "source": [
    "## Simulator code\n",
    "\n",
    "It's now your turn! Complete the code below, which implements the simulator described above."
   ]
  },
  {
   "cell_type": "code",
   "execution_count": null,
   "metadata": {
    "collapsed": true
   },
   "outputs": [],
   "source": [
    "# Our usual multidimensional array tools\n",
    "import numpy as np\n",
    "import scipy as sp\n",
    "import scipy.sparse\n",
    "from scipy.integrate import odeint"
   ]
  },
  {
   "cell_type": "code",
   "execution_count": null,
   "metadata": {
    "collapsed": true
   },
   "outputs": [],
   "source": [
    " # Core plotting support\n",
    "import matplotlib.pyplot as plt\n",
    "%matplotlib inline"
   ]
  },
  {
   "cell_type": "code",
   "execution_count": null,
   "metadata": {
    "collapsed": false
   },
   "outputs": [],
   "source": [
    "L = 1.0  # Length of the 1-D domain\n",
    "C = 0.1  # Diffusion coefficient\n",
    "M = 11   # Number of (spatial) grid points\n",
    "\n",
    "dx = float (L) / (M-1)       # Grid resolution\n",
    "\n",
    "print (\"=== Simulation parameters ===\")\n",
    "print (\"  Domain of x: [0, L=%g]\" % L)\n",
    "print (\"  Diffusion coefficient: C=%g (units: [len]^2 / [time])\" % C)\n",
    "print (\"  Grid resolution: m=%d points ==> dx=%g [len]\" % (M, dx))"
   ]
  },
  {
   "cell_type": "code",
   "execution_count": null,
   "metadata": {
    "collapsed": false
   },
   "outputs": [],
   "source": [
    "# Function to compute a centered impulse as an initial condition\n",
    "def gen_u_centered_impulse (m=M):\n",
    "    u = np.zeros (m)\n",
    "    i_mid = int (m/2)\n",
    "    w = max (int (0.05*m), 1)\n",
    "    u[(i_mid-w):(i_mid+w)] = 1.0  # Centered impulse\n",
    "    return u"
   ]
  },
  {
   "cell_type": "code",
   "execution_count": null,
   "metadata": {
    "collapsed": false
   },
   "outputs": [],
   "source": [
    "def plot_u (x, u, t=None, title=None):\n",
    "    fig = plt.figure ()\n",
    "    ax = fig.add_subplot(111)\n",
    "    ax.plot (x, u)\n",
    "    if title is None:\n",
    "        if t is None:\n",
    "            title = 'u(x)'\n",
    "        else:\n",
    "            title = \"u(x, %s)\" % str (t)\n",
    "    ax.set_title (title)\n",
    "    ax.set_xlabel ('x')\n",
    "    return ax"
   ]
  },
  {
   "cell_type": "code",
   "execution_count": null,
   "metadata": {
    "collapsed": false
   },
   "outputs": [],
   "source": [
    "x = np.linspace (0.0, L, M)  # Grid points (coordinates)\n",
    "u_0 = gen_u_centered_impulse (M)\n",
    "plot_u (x, u_0, t=\"t=0\")"
   ]
  },
  {
   "cell_type": "markdown",
   "metadata": {},
   "source": [
    "**Exercise.** Define a function to build the matrix $A$ given the number of grid points $m$."
   ]
  },
  {
   "cell_type": "code",
   "execution_count": null,
   "metadata": {
    "collapsed": false
   },
   "outputs": [],
   "source": [
    "def build_matrix (m):\n",
    "    # @YOUSE: Build a sparse matrix A\n",
    "    A = ...\n",
    "    return A\n",
    "\n",
    "print (\"=== A (m=%d) ===\\n\" % M, build_matrix (M).toarray ())"
   ]
  },
  {
   "cell_type": "markdown",
   "metadata": {},
   "source": [
    "**Exercise.** Write a function `f_diffusion()` to implement the ODE system's right hand side, $\\vec{f}(t, \\vec{u})$.\n",
    "\n",
    "> The arguments to this function are the state vector $\\vec{u}(t)$ at time $t$, the matrix $A$, diffusion coefficient $c$, and step size $\\Delta x$."
   ]
  },
  {
   "cell_type": "code",
   "execution_count": null,
   "metadata": {
    "collapsed": true
   },
   "outputs": [],
   "source": [
    "def f_diffusion (u, t, A, c=C, dx=dx):\n",
    "    assert type (u) is np.ndarray\n",
    "    \n",
    "    # @YOUSE: Compute `f[:]`\n",
    "    f = ...\n",
    "\n",
    "    assert type (f) is np.ndarray\n",
    "    assert np.all (f.shape == u.shape)\n",
    "    return f"
   ]
  },
  {
   "cell_type": "code",
   "execution_count": null,
   "metadata": {
    "collapsed": false
   },
   "outputs": [],
   "source": [
    "def sim (c, m, t_max, verbose=True):\n",
    "    dx = 1.0 / (m-1)\n",
    "    u_0 = gen_u_centered_impulse (m)\n",
    "    t_all = np.linspace (0.0, t_max, 3)\n",
    "    \n",
    "    A = build_matrix (m)\n",
    "    U = odeint (f_diffusion, u_0, t_all, args=(A, c, dx))\n",
    "    \n",
    "    if verbose:\n",
    "        print (\"Time points:\", t_all)\n",
    "        print (\"Peaks:\", np.max (U, axis=1))\n",
    "        print (\"Sum of stuff:\", np.sum (U, axis=1), \"\\n   ==> Is stuff conserved?\")\n",
    "    \n",
    "    return (U, t_all)\n",
    "\n",
    "L = 1.0\n",
    "M = 101\n",
    "dx = float (L) / (M-1)\n",
    "C = dx\n",
    "\n",
    "(U, t_all) = sim (c=C, m=M, t_max=1.0)"
   ]
  },
  {
   "cell_type": "code",
   "execution_count": null,
   "metadata": {
    "collapsed": false
   },
   "outputs": [],
   "source": [
    "def isim (c=C, m=M, t_max=0.0):\n",
    "    (U, t_all) = sim (c, m, t_max)\n",
    "        \n",
    "    x = np.linspace (0.0, 1.0, m)\n",
    "    if t_max > 0.0:\n",
    "        plt.plot (x, U[0, :], 'r', x, U[1, :], 'b', x, U[2, :], 'g')\n",
    "    else:\n",
    "        plt.plot (x, U[0, :], 'r')\n",
    "        \n",
    "# Initial conditions\n",
    "from ipywidgets import interact\n",
    "\n",
    "interact (isim\n",
    "          , c=(0.01, 1.0, 0.01)\n",
    "          , m=(11, 101, 10)\n",
    "          , t_max=(0.0, 2.0, 0.01)\n",
    "         )"
   ]
  },
  {
   "cell_type": "code",
   "execution_count": null,
   "metadata": {
    "collapsed": true
   },
   "outputs": [],
   "source": []
  }
 ],
 "metadata": {
  "kernelspec": {
   "display_name": "Python 3",
   "language": "python",
   "name": "python3"
  },
  "language_info": {
   "codemirror_mode": {
    "name": "ipython",
    "version": 3
   },
   "file_extension": ".py",
   "mimetype": "text/x-python",
   "name": "python",
   "nbconvert_exporter": "python",
   "pygments_lexer": "ipython3",
   "version": "3.5.1"
  }
 },
 "nbformat": 4,
 "nbformat_minor": 0
}
