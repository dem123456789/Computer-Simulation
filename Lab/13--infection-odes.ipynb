{
 "cells": [
  {
   "cell_type": "markdown",
   "metadata": {},
   "source": [
    "# CX 4230, Spring 2016 [13]: Infection modeling via ODEs\n",
    "\n",
    "So far you've looked at two approaches to conceptually modeling and simulating an SIR (susceptible-infected-recovered) system:\n",
    "\n",
    "* Celluar automata: discrete states (binary S, I, and R), discrete time, discrete space.\n",
    "* Markov chains: continuous states (probabilistic S, I, and R), discrete time or \"no time\" (steady-state), discrete space.\n",
    "\n",
    "In this notebook, you'll consider a third approach in which all of the state, time, and space variables are treated as continuous. The usual conceptual modeling language for continuous variables is the language of _differential equations_."
   ]
  },
  {
   "cell_type": "markdown",
   "metadata": {},
   "source": [
    "## Setup\n",
    "\n",
    "Run these code cells to get started."
   ]
  },
  {
   "cell_type": "code",
   "execution_count": null,
   "metadata": {
    "collapsed": true
   },
   "outputs": [],
   "source": [
    "# Our usual multidimensional array tools\n",
    "import numpy as np\n",
    "import scipy as sp\n",
    "import scipy.sparse\n",
    "from scipy.integrate import odeint"
   ]
  },
  {
   "cell_type": "code",
   "execution_count": null,
   "metadata": {
    "collapsed": true
   },
   "outputs": [],
   "source": [
    " # Core plotting support\n",
    "import matplotlib.pyplot as plt\n",
    "%matplotlib inline"
   ]
  },
  {
   "cell_type": "markdown",
   "metadata": {},
   "source": [
    "## Conceptual model\n",
    "\n",
    "There are several possible conceptual models. Recall the one discussed in class:\n",
    "\n",
    "* Model three population types as _fractions_ of the total population that vary continuously in time: $S \\equiv S(t)$ for suscetible people, $I \\equiv I(t)$ for infected people, and $R \\equiv R(t)$ for recovered people.\n",
    "* Ignore the spatial dimension and assume the subpopulations are _well-mixed_, i.e., everyone is connected to everyone else.\n",
    "* Let $\\tau$ be a rate of infection spread, having inverse-time units.\n",
    "* Let $\\rho$ be a rate of recovery, also having inverse-time units.\n",
    "\n",
    "From these starting assumptions, we developed a conceptual model of the system as a system of _ordinary differential equations_ (ODEs):\n",
    "\n",
    "$$\n",
    "\\begin{eqnarray}\n",
    "  \\dfrac{dI(t)}{dt} & = & \\tau I(t) S(t) - \\rho I(t) \\\\\n",
    "  \\dfrac{dS(t)}{dt} & = & -\\tau I(t) S(t) \\\\\n",
    "  \\dfrac{dR(t)}{dt} & = & \\rho I(t)\n",
    "\\end{eqnarray}\n",
    "$$\n",
    "\n",
    "> Recall that the $\\rho I(t)$ term measures the fraction of the infected population that recovers per unit time. We also discussed a variation on this term in class, which expresses recovery using a _delay_ term, $I(t-k)$; such a term results in a [_delay differential equation_](https://en.wikipedia.org/wiki/Delay_differential_equation)."
   ]
  },
  {
   "cell_type": "code",
   "execution_count": null,
   "metadata": {
    "collapsed": true
   },
   "outputs": [],
   "source": [
    "TAU = 0.1\n",
    "RHO = 0.5"
   ]
  },
  {
   "cell_type": "markdown",
   "metadata": {},
   "source": [
    "## Simulator\n",
    "\n",
    "To build a \"simulator\" for this system of ODEs, we can use a black-box ODE solver. Let's use Scipy's [`odeint()`](http://docs.scipy.org/doc/scipy-0.16.1/reference/generated/scipy.integrate.odeint.html#scipy.integrate.odeint)."
   ]
  },
  {
   "cell_type": "markdown",
   "metadata": {},
   "source": [
    "Recall that a generic ODE solver expects to be given a system of the form,\n",
    "\n",
    "$$\n",
    "  \\dfrac{d\\vec{y}(t)}{dt} = f(t, \\vec{y}),\n",
    "$$\n",
    "\n",
    "where $\\vec{y}(t)$ is the vector whose $m$ components are the continuous state variables of the system,\n",
    "\n",
    "$$\n",
    "\\begin{eqnarray}\n",
    "  \\vec{y}(t)\n",
    "    & \\equiv & \\left(\\begin{array}{c}\n",
    "                 y_0(t) \\\\\n",
    "                 y_1(t) \\\\\n",
    "                 \\vdots \\\\\n",
    "                 y_{m-1}(t)\n",
    "               \\end{array}\\right),\n",
    "\\end{eqnarray}\n",
    "$$\n",
    "\n",
    "and $\\vec{f}(t, \\vec{y})$ is a vector function having $m$ components that depend on the time $t$ and the state variable (components) of $\\vec{y}$:\n",
    "\n",
    "$$\n",
    "\\begin{eqnarray}\n",
    "  \\vec{f}(t, \\vec{y})\n",
    "    & \\equiv & \\left(\\begin{array}{c}\n",
    "                 f_0(t, \\vec{y}) \\\\\n",
    "                 f_1(t, \\vec{y}) \\\\\n",
    "                 \\vdots \\\\\n",
    "                 f_{m-1}(t, \\vec{y})\n",
    "               \\end{array}\\right).\n",
    "\\end{eqnarray}\n",
    "$$"
   ]
  },
  {
   "cell_type": "markdown",
   "metadata": {},
   "source": [
    "**Exercise.** For the SIR-ODE model above, define $\\vec{y}$ and $\\vec{f}(t, \\vec{y})$."
   ]
  },
  {
   "cell_type": "markdown",
   "metadata": {},
   "source": [
    "> Answer: ??"
   ]
  },
  {
   "cell_type": "markdown",
   "metadata": {},
   "source": [
    "**Exercise.** Define a Python function, `f_sirode(y[:], t)`, that implements the (mathematical) vector function $\\vec{f}(t, \\vec{y})$."
   ]
  },
  {
   "cell_type": "code",
   "execution_count": null,
   "metadata": {
    "collapsed": true
   },
   "outputs": [],
   "source": [
    "def f_sirode (y, t, tau=TAU, rho=RHO):\n",
    "    assert type (y) is np.ndarray\n",
    "    assert type (t) is float\n",
    "    f = np.zeros (y.shape)\n",
    "    # @YOUSE: Compute `f[:]`\n",
    "    assert (False)\n",
    "    return f"
   ]
  },
  {
   "cell_type": "code",
   "execution_count": null,
   "metadata": {
    "collapsed": false
   },
   "outputs": [],
   "source": [
    "# Test code: Display a plotting widget that lets you adjust\n",
    "# the simulation parameters and visualize the results.\n",
    "\n",
    "from ipywidgets import interact\n",
    "\n",
    "def isim (tau=TAU, rho=RHO, i0=0.01, t_max=10.0, n_t=100):\n",
    "    assert t_max > 0.0\n",
    "    t_all = np.linspace (0.0, t_max, n_t)\n",
    "    y0 = np.array ([i0, 1.0-i0, 0.0])\n",
    "    y_t = odeint (f_sirode, y0, t_all, args=(tau, rho))\n",
    "    plt.plot (t_all, y_t[:, 0], 'r', t_all, y_t[:, 1], 'y', t_all, y_t[:, 2], 'b')\n",
    "    print (\"[I, S, R](t=%g) ~= [%g, %g, %g]\" \\\n",
    "           % (t_all[-1], y_t[-1, 0], y_t[-1, 1], y_t[-1, 2]))\n",
    "    \n",
    "# Initial conditions\n",
    "I0 = 0.01\n",
    "S0 = 1.0 - I0\n",
    "R0 = 0.0\n",
    "y0 = np.array ([I0, S0, R0])\n",
    "\n",
    "interact (isim\n",
    "          , tau=(0.0, 2.0, 0.01)\n",
    "          , rho=(0.0, 2.0, 0.01)\n",
    "          , i0=(0.0, 1.0, 0.01)\n",
    "          , t_max=(0.0, 100.0, 10.0)\n",
    "          , n_t=(1, 500, 50)\n",
    "         )"
   ]
  },
  {
   "cell_type": "markdown",
   "metadata": {},
   "source": [
    "**Exercise.** Recall the results from the probabilistic Markov chain model in 1-D with 3 cells, a conditional probability of infection given exposure of 0.2, and a recovery time of $k=2$ days. In the steady-state, you found both by calculation and cellular automaton simulation that\n",
    "\n",
    "* the probability of just 1 recovered cell is 0.4096;\n",
    "* the probability of 2 recovered cells is 0.4608;\n",
    "* and the probability of 3 recovered cells is 0.1296.\n",
    "\n",
    "Thus, the expected fraction of the population in the recovered state in the steady-state limit is $0.4096\\times\\frac{1}{3} + 0.4608\\times\\frac{2}{3} + 0.1296\\times\\frac{3}{3} \\approx 0.420$.\n",
    "\n",
    "Consider the ODE model where $I(0) \\approx \\frac{1}{3}$. Find values for $\\tau$ and $\\rho$ such that the fraction of the population in the recovered state approximately matches that of the Markov chain model."
   ]
  },
  {
   "cell_type": "markdown",
   "metadata": {},
   "source": [
    "> Answer: ??"
   ]
  },
  {
   "cell_type": "code",
   "execution_count": null,
   "metadata": {
    "collapsed": true
   },
   "outputs": [],
   "source": []
  }
 ],
 "metadata": {
  "kernelspec": {
   "display_name": "Python 2",
   "language": "python",
   "name": "python2"
  },
  "language_info": {
   "codemirror_mode": {
    "name": "ipython",
    "version": 2
   },
   "file_extension": ".py",
   "mimetype": "text/x-python",
   "name": "python",
   "nbconvert_exporter": "python",
   "pygments_lexer": "ipython2",
   "version": "2.7.11"
  }
 },
 "nbformat": 4,
 "nbformat_minor": 0
}
