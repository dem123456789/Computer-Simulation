{
 "cells": [
  {
   "cell_type": "markdown",
   "metadata": {},
   "source": [
    "# CX 4230, Spring 2016: [16] ODEs for the Post-Valentine's Day Blues\n",
    "\n",
    "In the last notebook, [Lab 15](http://nbviewer.jupyter.org/github/rvuduc/cx4230-ipynbs/blob/master/15--diffusion.ipynb), you needed to solve a _linear_ system of ordinary differential equations (ODEs), meaning of the form,\n",
    "\n",
    "$$\n",
    "  \\dfrac{d}{dt} \\vec{y}(t) = A \\cdot \\vec{y}(t),\n",
    "$$\n",
    "\n",
    "where $A$ is a matrix with (constant) coefficients. Linear problems like this one are quite common in science and engineering applications. So what can we say about their solutions?\n",
    "\n",
    "The goal of today's notebook is to help build your intuition through a lighthearted exercise, namely, modeling the \"dynamics\" of love! This exercise will be our gentle introduction to _dynamical systems_. The specific example follows [an exercise](http://www.jstor.org/stable/2690328) suggested originally by Steven Strogatz."
   ]
  },
  {
   "cell_type": "markdown",
   "metadata": {},
   "source": [
    "## The setup\n",
    "\n",
    "Romeo and Juliet are looking for love and find one another. Let,\n",
    "\n",
    "* $R(t) \\equiv$ Romeo's love (positive values) or hate (negative values) for Juliet; and\n",
    "* $J(t) \\equiv$ Juliet's love or hate for Romeo,\n",
    "\n",
    "where both quantities are continuous functions of (continuous) time $t$."
   ]
  },
  {
   "cell_type": "markdown",
   "metadata": {},
   "source": [
    "Initially, Romeo immediately falls in love with Juliet, whereas Juliet has no opinion. Let's model this scenario as the initial condition of $R(0) = 1$ and $J(0) = 0$."
   ]
  },
  {
   "cell_type": "markdown",
   "metadata": {},
   "source": [
    "Romeo is the type of lover who mimics his partner: the more someone loves or hates him, the more he wants to return the same feeling. Juliet, by contrast, is fickle: the more someone loves her, the more she tends to dislike that person.\n",
    "\n",
    "Let's model the dynamics of Romeo and Juliet's love by a system of ordinary differential equations---because that's everyone's first instinct---where the derivatives of $R(t)$ and $J(t)$ depend only linearly on $R(t)$ and $J(t)$, i.e.,\n",
    "\n",
    "$$\n",
    "\\begin{eqnarray}\n",
    "  \\begin{array}{rcl}\n",
    "    \\dfrac{dR(t)}{dt} & = & a_0 R(t) + b_0 J(t) \\\\\n",
    "    \\dfrac{dJ(t)}{dt} & = & c_0 R(t) + d_0 J(t)\n",
    "  \\end{array}\n",
    "  & \\qquad \\implies \\qquad &\n",
    "  \\begin{array}{rcl}\n",
    "    \\dfrac{d}{dt} \\left(\\begin{array}{c}\n",
    "                    R(t) \\\\\n",
    "                    J(t)\n",
    "                  \\end{array}\\right)\n",
    "    & = &\n",
    "      \\left(\\begin{array}{cc}\n",
    "        a_0 & b_0 \\\\\n",
    "        c_0 & d_0\n",
    "      \\end{array}\\right)\n",
    "      \\cdot\n",
    "      \\left(\\begin{array}{c}\n",
    "        R(t) \\\\\n",
    "        J(t)\n",
    "      \\end{array}\\right).\n",
    "  \\end{array}\n",
    "\\end{eqnarray}\n",
    "$$\n",
    "\n",
    "In general, the coefficients $a_0$, $b_0$, $c_0$, and $d_0$ could take on any values. But since Romeo is an eager beaver, it would be reasonable to let $a_0 = 0$ and $b_0 > 0$. For Juliet, we might choose her coefficients as $c_0 < 0$ and $d_0 = 0$."
   ]
  },
  {
   "cell_type": "markdown",
   "metadata": {},
   "source": [
    "Let's solve this system numerically. Let $\\vec{y}(t) = \\left(\\begin{array}{c} y_0(t) \\\\ y_1(t) \\end{array}\\right) \\equiv \\left(\\begin{array}{c} R(t) \\\\ J(t) \\end{array}\\right)$. Consider the system $\\dfrac{d\\vec{y}}{dt} = \\vec{f}(t, \\vec{y})$ for a suitable choice of $\\vec{f}(\\cdot, \\cdot)$ corresponding to the \"Romeo and Juliet\" system."
   ]
  },
  {
   "cell_type": "code",
   "execution_count": null,
   "metadata": {
    "collapsed": true
   },
   "outputs": [],
   "source": [
    "# Our usual multidimensional array tools\n",
    "import numpy as np\n",
    "import scipy as sp\n",
    "import scipy.sparse\n",
    "from scipy.integrate import odeint"
   ]
  },
  {
   "cell_type": "code",
   "execution_count": null,
   "metadata": {
    "collapsed": true
   },
   "outputs": [],
   "source": [
    "# Core plotting support\n",
    "import matplotlib.pyplot as plt\n",
    "%matplotlib inline"
   ]
  },
  {
   "cell_type": "markdown",
   "metadata": {},
   "source": [
    "**Exercise.** Write a function to compute $\\vec{f}(t, \\vec{y})$ for the Romeo and Juliet system. Then run the simulation code below. Do Romeo and Juliet find true love?"
   ]
  },
  {
   "cell_type": "code",
   "execution_count": null,
   "metadata": {
    "collapsed": true
   },
   "outputs": [],
   "source": [
    "def f_rj (y, t, a0, b0, c0, d0):\n",
    "    r_t, j_t = y[0], y[1]\n",
    "    # @YOUSE: Complete this function\n",
    "    assert (False)"
   ]
  },
  {
   "cell_type": "code",
   "execution_count": null,
   "metadata": {
    "collapsed": false
   },
   "outputs": [],
   "source": [
    "# Test code (simulator)\n",
    "\n",
    "def isim (r0=1.0, j0=-1.0, a0=0.0, b0=1.0, c0=-1.0, d0=0.0, t_max=20.0):\n",
    "    \"\"\"\n",
    "    Simulates the Romeo & Juliet system for the given input parameters.\n",
    "    `t_max` is the simulation ending time (default: 20 time units).\n",
    "    \"\"\"\n",
    "    T = np.linspace (0, t_max, t_max*10+1)\n",
    "    Y0 = np.array ([r0, j0])\n",
    "    y = odeint (f_rj, Y0, T, args=(a0, b0, c0, d0))\n",
    "    \n",
    "    # Results\n",
    "    r, j = y[:, 0], y[:, 1]\n",
    "    y_equals_zero = np.zeros (T.shape)\n",
    "    plt.plot (T, y_equals_zero, 'k-',\n",
    "              T, r, 'r-',\n",
    "              T, j, 'g-.')\n",
    "    \n",
    "    # Analysis\n",
    "    A = np.array ([[a0, b0],\n",
    "                   [c0, d0]])\n",
    "    print (\"A =\\n\", A)\n",
    "    print (\"eig (A) =\\n\", np.linalg.eigvals (A))\n",
    "\n",
    "# Run a test case\n",
    "isim (r0=1.0, j0=-1.0, a0=0.0, b0=1.0, c0=-1.0, d0=0.0)"
   ]
  },
  {
   "cell_type": "markdown",
   "metadata": {},
   "source": [
    "**Exercise.** Suppose our couple exhibits the following behavior.\n",
    "\n",
    "1. Romeo is an _eager beaver_, meaning he gets excited _both_ by his partner's feelings of love _and_ by his own affectionate feelings. This case might be modeled as $a_0 > 0$ _and_ $b_0 > 0$.\n",
    "2. Juliet is _cautiously self-aware_, meaning her she resists Romeo's positive feelings but embraces her own positive feelings. This case might be modeled as $c_0 < 0$ and $d_0 > 0$.\n",
    "\n",
    "Can an eager beaver and cautiously self-aware lover find romance?"
   ]
  },
  {
   "cell_type": "code",
   "execution_count": null,
   "metadata": {
    "collapsed": false
   },
   "outputs": [],
   "source": [
    "# @YOUSE: Set the parameters and see what happens.\n",
    "isim (r0=1.0, j0=-1.0, a0=0.0, b0=0.0, c0=0.0, d0=0.0, t_max=20)"
   ]
  },
  {
   "cell_type": "markdown",
   "metadata": {},
   "source": [
    "**Exercise.** Come up with your own Romeo and Juliet scenario, by picking some initial conditions and values for the coefficients. Submit your choice, including a description of your scenario, here: http://j.mp/gtloveshack. We'll offer a prize for the most entertaining submission."
   ]
  },
  {
   "cell_type": "code",
   "execution_count": null,
   "metadata": {
    "collapsed": false
   },
   "outputs": [],
   "source": [
    "from ipywidgets import interact\n",
    "\n",
    "interact (isim\n",
    "          , r0=(-1.0, 1.0, 0.1)\n",
    "          , j0=(-1.0, 1.0, 0.1)\n",
    "          , a=(-1.0, 1.0, 0.1)\n",
    "          , b=(-1.0, 1.0, 0.1)\n",
    "          , c=(-1.0, 1.0, 0.1)\n",
    "          , d=(-1.0, 1.0, 0.1)\n",
    "         )"
   ]
  },
  {
   "cell_type": "code",
   "execution_count": null,
   "metadata": {
    "collapsed": true
   },
   "outputs": [],
   "source": []
  }
 ],
 "metadata": {
  "kernelspec": {
   "display_name": "Python 3",
   "language": "python",
   "name": "python3"
  },
  "language_info": {
   "codemirror_mode": {
    "name": "ipython",
    "version": 3
   },
   "file_extension": ".py",
   "mimetype": "text/x-python",
   "name": "python",
   "nbconvert_exporter": "python",
   "pygments_lexer": "ipython3",
   "version": "3.5.1"
  }
 },
 "nbformat": 4,
 "nbformat_minor": 0
}
