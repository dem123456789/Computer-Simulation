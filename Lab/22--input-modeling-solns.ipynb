{
 "cells": [
  {
   "cell_type": "markdown",
   "metadata": {},
   "source": [
    "# CX 4230, Spring 2016: [22] Input modeling\n",
    "\n",
    "This notebook includes sample code to accompany the slides from the Monday, February 29 class. It does not contain any exercises."
   ]
  },
  {
   "cell_type": "code",
   "execution_count": null,
   "metadata": {
    "collapsed": true
   },
   "outputs": [],
   "source": [
    "import numpy as np\n",
    "import scipy as sp"
   ]
  },
  {
   "cell_type": "code",
   "execution_count": null,
   "metadata": {
    "collapsed": true
   },
   "outputs": [],
   "source": [
    "import matplotlib.pyplot as plt\n",
    "%matplotlib inline"
   ]
  },
  {
   "cell_type": "code",
   "execution_count": null,
   "metadata": {
    "collapsed": false
   },
   "outputs": [],
   "source": [
    "X = np.array ([105.84, 28.92, 98.64, 55.64,\n",
    "               128.04, 45.60, 67.80, 105.12,\n",
    "               48.48, 51.84, 173.40, 51.96,\n",
    "               54.12, 68.64, 93.12, 68.88,\n",
    "               84.12, 68.64, 41.52, 127.92,\n",
    "               42.12, 17.88, 33.00])\n",
    "print (len (X), \"observations:\")\n",
    "print (X)"
   ]
  },
  {
   "cell_type": "markdown",
   "metadata": {},
   "source": [
    "For the next code cell, refer to the documentation for Scipy's [`linregress()`](http://docs.scipy.org/doc/scipy/reference/generated/scipy.stats.linregress.html)."
   ]
  },
  {
   "cell_type": "code",
   "execution_count": null,
   "metadata": {
    "collapsed": false
   },
   "outputs": [],
   "source": [
    "from scipy.stats import linregress\n",
    "\n",
    "T = np.arange (len (X))\n",
    "slope, intercept, rvalue, pvalue, stderr = linregress (T, X)\n",
    "\n",
    "print (\"Slope:\", slope)\n",
    "print (\"Intercept:\", intercept)\n",
    "print (\"p-value:\", pvalue)"
   ]
  },
  {
   "cell_type": "markdown",
   "metadata": {},
   "source": [
    "For the next code cell, refer to the documentation for Numpy's [`pad()`](http://docs.scipy.org/doc/numpy/reference/generated/numpy.pad.html#numpy.pad) function."
   ]
  },
  {
   "cell_type": "code",
   "execution_count": null,
   "metadata": {
    "collapsed": false
   },
   "outputs": [],
   "source": [
    "# Running means (fixed w)\n",
    "w = 2 # window size\n",
    "n, r = len (X), len (X) % w\n",
    "\n",
    "n_w = (n-r) / w\n",
    "X_w = np.reshape (X if r == 0 else X[:-r], (n_w, w))\n",
    "np.pad (X_w, ((0, 0), (0, 1)), 'mean')"
   ]
  },
  {
   "cell_type": "code",
   "execution_count": null,
   "metadata": {
    "collapsed": false
   },
   "outputs": [],
   "source": [
    "def calc_windowed_mean (X, w):\n",
    "    n, r = len (X), len (X) % w\n",
    "    n_w = (n - r) / w\n",
    "    if r == 0:\n",
    "        X_w = np.reshape (X, (n_w, w))\n",
    "    else:\n",
    "        X_w = np.reshape (X[:-r], (n_w, w))\n",
    "        \n",
    "    # Add column of mean values\n",
    "    X_w = np.pad (X_w, ((0, 0), (0, 1)), 'mean')\n",
    "    T_w = np.arange (0, n-r, w) + w/2\n",
    "    return X_w, T_w\n",
    "\n",
    "# Demo\n",
    "calc_windowed_mean (X, 2)"
   ]
  },
  {
   "cell_type": "code",
   "execution_count": null,
   "metadata": {
    "collapsed": false
   },
   "outputs": [],
   "source": [
    "fig = plt.figure (figsize=(18, 6))\n",
    "ax = fig.add_subplot (111)\n",
    "for w in range (1, len (X)+1, 5):\n",
    "    X_w, T_w = calc_windowed_mean (X, w)\n",
    "    xp, yp = T_w, X_w[:, -1:]\n",
    "    ax.plot (xp, yp, 'o:', label=str (w))\n",
    "ax.legend ()"
   ]
  },
  {
   "cell_type": "code",
   "execution_count": null,
   "metadata": {
    "collapsed": false
   },
   "outputs": [],
   "source": [
    "def sample_mean (X):\n",
    "    return np.mean (X)\n",
    "\n",
    "sample_mean (X)"
   ]
  },
  {
   "cell_type": "code",
   "execution_count": null,
   "metadata": {
    "collapsed": false
   },
   "outputs": [],
   "source": [
    "def sample_autocovar (X, h):\n",
    "    n = len (X)\n",
    "    n_h = n - abs (h)\n",
    "    X_t = X[:n_h]\n",
    "    X_t_h = X[abs (h):n]\n",
    "    mu = sample_mean (X)\n",
    "    return np.sum ((X_t_h - mu) * (X_t - mu)) / n\n",
    "\n",
    "# Demo\n",
    "sample_autocovar (X, 3)"
   ]
  },
  {
   "cell_type": "code",
   "execution_count": null,
   "metadata": {
    "collapsed": false
   },
   "outputs": [],
   "source": [
    "def sample_autocorr (X, h=None):\n",
    "    n = len (X)\n",
    "    if h is not None:\n",
    "        assert abs (h) < n\n",
    "        return sample_autocovar (X, h) / sample_autocovar (X, 0)\n",
    "    else:\n",
    "        C = np.zeros (2*n-1)\n",
    "        H = np.arange (-(n-1), n)\n",
    "        for h in H:\n",
    "            C[n-1+h] = sample_autocorr (X, h)\n",
    "        return C, H\n",
    "    assert False\n",
    "\n",
    "# Demo\n",
    "sample_autocorr (X)"
   ]
  },
  {
   "cell_type": "code",
   "execution_count": null,
   "metadata": {
    "collapsed": false
   },
   "outputs": [],
   "source": [
    "def viz_autocorr (X):\n",
    "    C, H = sample_autocorr (X)\n",
    "    \n",
    "    fig = plt.figure (figsize=(18, 6))\n",
    "    ax = fig.add_subplot (111)\n",
    "    ax.stem (H, C, '-.')\n",
    "    plt.title ('Lag autocorrelations')\n",
    "    ax.set_xlabel ('Lag')\n",
    "    \n",
    "    return fig, ax, C, H\n",
    "\n",
    "# Demo\n",
    "_, _, _, _ = viz_autocorr (X)"
   ]
  },
  {
   "cell_type": "markdown",
   "metadata": {},
   "source": [
    "The following code cell shows an alternative way to implement the sample autocorrelation measure using Scipy's built-in [`correlate()`](http://docs.scipy.org/doc/scipy/reference/generated/scipy.signal.correlate.html) function."
   ]
  },
  {
   "cell_type": "code",
   "execution_count": null,
   "metadata": {
    "collapsed": false
   },
   "outputs": [],
   "source": [
    "from scipy.signal import correlate\n",
    "\n",
    "def sample_autocorr2 (X, h=None):\n",
    "    n = len (X)    \n",
    "    mu_X = np.mean (X)\n",
    "    Y = correlate ((X - mu_X)/n, (X - mu_X)/n)\n",
    "    C = Y / Y[int (len (Y)/2)]\n",
    "    H = np.arange (-(n-1), n)\n",
    "    \n",
    "    if h is not None:\n",
    "        assert -n < h < n\n",
    "        return C[-(n-1)+h]\n",
    "    else:\n",
    "        return C, H\n",
    "\n",
    "def viz_autocorr2 (X):\n",
    "    C, H = sample_autocorr2 (X)\n",
    "    fig = plt.figure (figsize=(18, 6))\n",
    "    ax = fig.add_subplot (111)\n",
    "    ax.stem (H, C, '-.')\n",
    "    plt.title ('Lag autocorrelations (Method 2)')\n",
    "    ax.set_xlabel ('Lag')\n",
    "    return fig, ax, C, H\n",
    "\n",
    "# Demo\n",
    "_, _, _, _ = viz_autocorr2 (X)"
   ]
  },
  {
   "cell_type": "code",
   "execution_count": null,
   "metadata": {
    "collapsed": true
   },
   "outputs": [],
   "source": []
  }
 ],
 "metadata": {
  "kernelspec": {
   "display_name": "Python 3",
   "language": "python",
   "name": "python3"
  },
  "language_info": {
   "codemirror_mode": {
    "name": "ipython",
    "version": 3
   },
   "file_extension": ".py",
   "mimetype": "text/x-python",
   "name": "python",
   "nbconvert_exporter": "python",
   "pygments_lexer": "ipython3",
   "version": "3.5.1"
  }
 },
 "nbformat": 4,
 "nbformat_minor": 0
}
