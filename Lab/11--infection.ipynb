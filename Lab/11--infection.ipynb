{
 "cells": [
  {
   "cell_type": "markdown",
   "metadata": {},
   "source": [
    "## Setup\n",
    "\n",
    "Some code setup: run these cells, declare victory, and move on."
   ]
  },
  {
   "cell_type": "markdown",
   "metadata": {},
   "source": [
    "# CX 4230, Spring 2016 [11]: A cellular automaton for the S-I-R model of infection\n",
    "\n",
    "In this notebook, you will use a cellular automaton to implement a model of the spread of infection, which we will refer to as the susceptible-infectious-recovered CA (SIR-CA) model.\n",
    "\n",
    "The slides that accompany this notebook are available here (~ 19 MiB): https://t-square.gatech.edu/access/content/group/gtc-59b8-dc03-5a67-a5f4-88b8e4d5b69a/cx4230-sp16--11-infection-and-diffusion.pdf"
   ]
  },
  {
   "cell_type": "code",
   "execution_count": 16,
   "metadata": {
    "collapsed": true
   },
   "outputs": [],
   "source": [
    "import numpy as np\n",
    "import scipy as sp\n",
    "import scipy.sparse"
   ]
  },
  {
   "cell_type": "code",
   "execution_count": 17,
   "metadata": {
    "collapsed": true
   },
   "outputs": [],
   "source": [
    "import matplotlib.pyplot as plt # Core plotting support\n",
    "%matplotlib inline"
   ]
  },
  {
   "cell_type": "markdown",
   "metadata": {},
   "source": [
    "## The phenomenon to be modeled and simulated\n",
    "\n",
    "Suppose we wish to model the spread of an illness in a population distributed geographically. This illness is non-fatal, meaning a person who has it does not die from it; an ill person eventually recovers. The illness is also contagious, spreading by contact. After a roughly fixed and predictable period of time, an ill person recovers and develops an immunity to the illness, meaning he or she will never suffer from the same illness again."
   ]
  },
  {
   "cell_type": "markdown",
   "metadata": {},
   "source": [
    "## Conceptual model\n",
    "\n",
    "As a first cut, let's try using a cellular automaton (CA) as the conceptual model. We will refer to the specific model we develop as the SIR-CA model, as noted above."
   ]
  },
  {
   "cell_type": "markdown",
   "metadata": {},
   "source": [
    "Let the world be a square $n \\times n$ grid $G = G(t) \\equiv \\left(g_{ij}(t)\\right)$ of cells that evolve over time, which is discrete and measured in, say, (integer) days.\n",
    "\n",
    "Every cell of $G$ is a position that is either empty or occupied by a person, who exists in one of three possible states:\n",
    "\n",
    "1. **Susceptible (S)**: This person has never gotten the illness before. If he or she comes in close contact with a sick person, he or she is at risk of catching the illness.\n",
    "2. **Infected (I)**: This person has the illness and is contagious.\n",
    "3. **Recovered (R)**: This person had the illness but has developed the immunity. He or she cannot become sick again.\n",
    "\n",
    "Let's associate these states with the following integers:"
   ]
  },
  {
   "cell_type": "code",
   "execution_count": 18,
   "metadata": {
    "collapsed": true
   },
   "outputs": [],
   "source": [
    "# Possible states:\n",
    "EMPTY = -1\n",
    "SUSCEPTIBLE = 0\n",
    "INFECTED = 1\n",
    "RECOVERED = 2"
   ]
  },
  {
   "cell_type": "markdown",
   "metadata": {},
   "source": [
    "On the \"zeroth day\" ($t = 0$), the world is full of susceptible people and one of them gets sick. This state is our initial condition."
   ]
  },
  {
   "cell_type": "code",
   "execution_count": 19,
   "metadata": {
    "collapsed": false
   },
   "outputs": [],
   "source": [
    "N = 10\n",
    "\n",
    "# Create an empty world at time t=0\n",
    "peeps_0 = EMPTY * np.ones ((N+2, N+2), dtype=int)\n",
    "peeps_0[1:-1, 1:-1] = SUSCEPTIBLE # Fill interior with susceptible people\n",
    "\n",
    "# Infect someone near the middle\n",
    "i_mid = int ((N+2) / 2)\n",
    "peeps_0[i_mid, i_mid] = INFECTED"
   ]
  },
  {
   "cell_type": "code",
   "execution_count": 20,
   "metadata": {
    "collapsed": false
   },
   "outputs": [
    {
     "data": {
      "image/png": "[encoded data removed]",
      "text/plain": [
       "<matplotlib.figure.Figure at 0xc5a05932e8>"
      ]
     },
     "metadata": {},
     "output_type": "display_data"
    }
   ],
   "source": [
    "def show_peeps (G, vmin=EMPTY, vmax=RECOVERED, ticks=range (EMPTY, RECOVERED+1)):\n",
    "    plt.pcolor (G, vmin=vmin, vmax=vmax, edgecolor='black')\n",
    "    plt.colorbar (ticks=ticks)\n",
    "    plt.axes().set_aspect('equal')\n",
    "    \n",
    "show_peeps (peeps_0)"
   ]
  },
  {
   "cell_type": "markdown",
   "metadata": {},
   "source": [
    "Let's define some functions to help identify susceptible, infected, and recovered people in this world."
   ]
  },
  {
   "cell_type": "code",
   "execution_count": 21,
   "metadata": {
    "collapsed": false
   },
   "outputs": [
    {
     "name": "stdout",
     "output_type": "stream",
     "text": [
      "99 susceptible patient(s) initially\n"
     ]
    }
   ],
   "source": [
    "def susceptible (G):\n",
    "    \"\"\"\n",
    "    Given a grid, G, returns a grid S whose (i, j) entry\n",
    "    equals 1 if G[i, j] is susceptible or 0 otherwise.\n",
    "    \"\"\"\n",
    "    return (G == SUSCEPTIBLE).astype (int)\n",
    "\n",
    "print (np.sum (susceptible (peeps_0)), \"susceptible patient(s) initially\")"
   ]
  },
  {
   "cell_type": "markdown",
   "metadata": {},
   "source": [
    "**Exercise.** Complete the following functions, which should find infected and recovered individuals in a given world."
   ]
  },
  {
   "cell_type": "code",
   "execution_count": 22,
   "metadata": {
    "collapsed": false
   },
   "outputs": [
    {
     "name": "stdout",
     "output_type": "stream",
     "text": [
      "1 infected patient(s) initially\n"
     ]
    }
   ],
   "source": [
    "def infected (G):\n",
    "    \"\"\"\n",
    "    Given a grid G, returns a grid I whose (i, j) entry equals 1 if\n",
    "    G[i, j] is infected or 0 otherwise.\n",
    "    \"\"\"\n",
    "    # @YOUSE\n",
    "    return ((G >= INFECTED) & (G < RECOVERED)).astype (int)\n",
    "\n",
    "print (np.sum (infected (peeps_0)), \"infected patient(s) initially\")"
   ]
  },
  {
   "cell_type": "code",
   "execution_count": 23,
   "metadata": {
    "collapsed": false
   },
   "outputs": [
    {
     "name": "stdout",
     "output_type": "stream",
     "text": [
      "0 patient(s) recovered\n"
     ]
    }
   ],
   "source": [
    "def recovered (G):\n",
    "    \"\"\"\n",
    "    Given a grid G, returns a grid R whose (i, j) entry equals 1 if\n",
    "    G[i, j] has recovered or 0 otherwise.\n",
    "    \"\"\"\n",
    "    # @YOUSE\n",
    "    return (G >= RECOVERED).astype (int)\n",
    "\n",
    "print (np.sum (recovered (peeps_0)), \"patient(s) recovered\")"
   ]
  },
  {
   "cell_type": "markdown",
   "metadata": {},
   "source": [
    "**Time evolution.** Next, let's define the state evolution rules that determine how the sickness spreads on every subsequent day, $t \\geq 1$:\n",
    "\n",
    "* **R1**) A person is sick for only one day. That is, if he or she is sick on day $t$, then on day $t+1$ he or she will have recovered.\n",
    "* **R2**) The illness spreads from an infected persons to their north, south, east, and west neighbors, but it does so nondeterministically. More formally, let's call a person at $(i, j)$ _exposed_ if _any_ of her north, south, east, or west neighbors is infected. The _conditional_ probability that any exposed person becomes infected is $\\tau$, which is uniform and independent for all positions. Thus, this rule says that all exposed persons will become infected randomly with probability $\\tau$."
   ]
  },
  {
   "cell_type": "markdown",
   "metadata": {},
   "source": [
    "**Exercise.** To help determine who might catch the disease in a given time step, let's write a function that determines who is exposed. That is, given a grid $G$, this function returns a new grid $E$ such that $e_{ij}$ is `1` if $g_{ij}$ is susceptible and at least one neighbor of $g_{ij}$ is sick, and `0` otherwise."
   ]
  },
  {
   "cell_type": "code",
   "execution_count": 24,
   "metadata": {
    "collapsed": false
   },
   "outputs": [
    {
     "name": "stdout",
     "output_type": "stream",
     "text": [
      "4 exposed patient(s)\n"
     ]
    },
    {
     "data": {
      "image/png": "[encoded data removed]",
      "text/plain": [
       "<matplotlib.figure.Figure at 0xc5a11875c0>"
      ]
     },
     "metadata": {},
     "output_type": "display_data"
    }
   ],
   "source": [
    "def exposed (G):\n",
    "    \"\"\"\n",
    "    Returns a grid whose (i, j) entry is 1 if it has\n",
    "    at least 1 infected neighbor, or 0 otherwise.\n",
    "    \"\"\"\n",
    "    # @YOUSE\n",
    "    I = infected(G)\n",
    "    E = np.zeros(G.shape,dtype=int) #Exposed people\n",
    "    E[1:-1, 1:-1] = I[0:-2, 1:-1] | I[1:-1,2:] | I[2:,1:-1] | I[1:-1,0:-2]\n",
    "    return E\n",
    "\n",
    "print (np.sum (exposed (peeps_0)), \"exposed patient(s)\")\n",
    "show_peeps (exposed (peeps_0))"
   ]
  },
  {
   "cell_type": "markdown",
   "metadata": {},
   "source": [
    "**Exercise.** Complete the following function. You are given an input grid `G[:,:]` of people and the conditional probability `p` of becoming infected given any sick neighbors. Your function should determine to which grid cells the infection spreads. In particular, it should return a binary (0-1) grid `G_s[:,:]` of the same size as `G[:,:]` where `G_s[i,j]` is `1` with probability `p` if `G[i,j]` is exposed, and `0` otherwise."
   ]
  },
  {
   "cell_type": "code",
   "execution_count": 25,
   "metadata": {
    "collapsed": false,
    "scrolled": true
   },
   "outputs": [
    {
     "name": "stdout",
     "output_type": "stream",
     "text": [
      "Infection spreads to 2 patient(s)\n"
     ]
    },
    {
     "data": {
      "image/png": "[encoded data removed]",
      "text/plain": [
       "<matplotlib.figure.Figure at 0xc5a122a780>"
      ]
     },
     "metadata": {},
     "output_type": "display_data"
    }
   ],
   "source": [
    "COND_PROB_ILL = 0.5 # Probability of getting sick, given any sick neighbors\n",
    "\n",
    "def spreads (G, tau=COND_PROB_ILL):\n",
    "    random_draw = np.random.uniform (size=G.shape)\n",
    "\n",
    "    # @YOUSE\n",
    "    G_s = (susceptible(G) * exposed(G) * (random_draw < tau))\n",
    "    return G_s.astype (int)\n",
    "\n",
    "np.random.seed (1602034230) # Fixed seed, for debugging\n",
    "G_s = spreads (peeps_0)\n",
    "print (\"Infection spreads to\", np.sum (G_s), \"patient(s)\")\n",
    "show_peeps (G_s)"
   ]
  },
  {
   "cell_type": "markdown",
   "metadata": {},
   "source": [
    "## Putting it all together\n",
    "\n",
    "The preceding code lays the building blocks for the complete simulation, which the following function implements."
   ]
  },
  {
   "cell_type": "markdown",
   "metadata": {},
   "source": [
    "**Exercise.** Write a function to simulate one time-step, given a grid `G[:,:]` and conditional probability `p` of infection when exposed."
   ]
  },
  {
   "cell_type": "code",
   "execution_count": 37,
   "metadata": {
    "collapsed": false,
    "scrolled": true
   },
   "outputs": [],
   "source": [
    "def step (G, tau=COND_PROB_ILL):\n",
    "    \"\"\"\n",
    "    Simulates one time step and returns a grid\n",
    "    of the resulting states.\n",
    "    \"\"\"\n",
    "    # @YOUSE\n",
    "    return G +infected(G)+spreads(G, tau)"
   ]
  },
  {
   "cell_type": "code",
   "execution_count": 38,
   "metadata": {
    "collapsed": false
   },
   "outputs": [
    {
     "name": "stdout",
     "output_type": "stream",
     "text": [
      "=== BEFORE ===\n",
      "Total beds: 100\n",
      "Susceptible: 99\n",
      "Infected: 1\n",
      "Recovered: 0\n",
      "\n",
      "=== AFTER ===\n",
      "Total beds: 100\n",
      "Susceptible: 97\n",
      "Infected: 2\n",
      "Recovered: 1\n"
     ]
    },
    {
     "data": {
      "image/png": "[encoded data removed]",
      "text/plain": [
       "<matplotlib.figure.Figure at 0xc5a260b080>"
      ]
     },
     "metadata": {},
     "output_type": "display_data"
    }
   ],
   "source": [
    "print (\"=== BEFORE ===\")\n",
    "summarize (peeps_0)\n",
    "\n",
    "print (\"\\n=== AFTER ===\")\n",
    "np.random.seed (1602034230) # Fixed seed, for debugging\n",
    "peeps_1 = step (peeps_0)\n",
    "summarize (peeps_1)\n",
    "show_peeps (peeps_1)"
   ]
  },
  {
   "cell_type": "code",
   "execution_count": 39,
   "metadata": {
    "collapsed": true
   },
   "outputs": [],
   "source": [
    "def summarize (G, verbose=True):\n",
    "    n = (G.shape[0]-2) * (G.shape[1]-2)\n",
    "    n_s = np.sum (susceptible (G))\n",
    "    n_i = np.sum (infected (G))\n",
    "    n_r = np.sum (recovered (G))\n",
    "    if verbose:\n",
    "        print (\"Total beds:\", n)\n",
    "        print (\"Susceptible:\", n_s)\n",
    "        print (\"Infected:\", n_i)\n",
    "        print (\"Recovered:\", n_r)\n",
    "    return (n_s, n_i, n_r, n)"
   ]
  },
  {
   "cell_type": "code",
   "execution_count": 40,
   "metadata": {
    "collapsed": true
   },
   "outputs": [],
   "source": [
    "def sim (G_0, max_steps, tau=COND_PROB_ILL):\n",
    "    \"\"\"\n",
    "    Starting from a given initial state, `G_0`, this\n",
    "    function simulates up to `max_steps` time steps of\n",
    "    the S-I-R cellular automaton. It returns a tuple\n",
    "    `(t, G_t)` containing the final time step\n",
    "    `t <= max_steps` and simulation state `G_t`.\n",
    "    \"\"\"\n",
    "    t = 0\n",
    "    G_t = G_0\n",
    "    (_, num_infected, _, _) = summarize (G_t, verbose=False)\n",
    "    while (num_infected > 0) and (t < max_steps):\n",
    "        t = t + 1\n",
    "        G_t = step (G_t, tau)\n",
    "        (_, num_infected, _, _) = summarize (G_t, verbose=False)\n",
    "    return (t, G_t)"
   ]
  },
  {
   "cell_type": "code",
   "execution_count": 41,
   "metadata": {
    "collapsed": false,
    "scrolled": true
   },
   "outputs": [
    {
     "data": {
      "image/png": "[encoded data removed]",
      "text/plain": [
       "<matplotlib.figure.Figure at 0xc5a2864eb8>"
      ]
     },
     "metadata": {},
     "output_type": "display_data"
    }
   ],
   "source": [
    "from ipywidgets import interact\n",
    "\n",
    "def isim (m, n, max_steps=0, tau=COND_PROB_ILL, seed=0):\n",
    "    np.random.seed (seed)\n",
    "    \n",
    "    # Initial state\n",
    "    G_0 = EMPTY * np.ones ((m+2, n+2), dtype=int)\n",
    "    G_0[1:-1, 1:-1] = SUSCEPTIBLE\n",
    "    i_mid = int ((m+2) / 2)\n",
    "    j_mid = int ((n+2) / 2)\n",
    "    G_0[i_mid, j_mid] = INFECTED\n",
    "    \n",
    "    if not max_steps:\n",
    "        max_steps = 10 * max (m, n) * (RECOVERED - INFECTED)\n",
    "    \n",
    "    (_, G_t) = sim (G_0, max_steps, tau)\n",
    "    show_peeps (G_t)\n",
    "    \n",
    "interact (isim\n",
    "          , m=(1, 100, 1)\n",
    "          , n=(1, 100, 1)\n",
    "          , max_steps=(0, 1000, 10)\n",
    "          , tau=(0.0, 1.0, 0.01)\n",
    "          , seed=(0, 100, 1)\n",
    "         )"
   ]
  },
  {
   "cell_type": "markdown",
   "metadata": {
    "collapsed": true
   },
   "source": [
    "**Exercise.** In the simulation as we've set it up, the recovery time is hard-coded at 1 day. Given a different recovery time $k > 1$, how would you modify the simulation?"
   ]
  },
  {
   "cell_type": "code",
   "execution_count": null,
   "metadata": {
    "collapsed": true
   },
   "outputs": [],
   "source": []
  },
  {
   "cell_type": "code",
   "execution_count": null,
   "metadata": {
    "collapsed": true
   },
   "outputs": [],
   "source": []
  }
 ],
 "metadata": {
  "kernelspec": {
   "display_name": "Python 3",
   "language": "python",
   "name": "python3"
  },
  "language_info": {
   "codemirror_mode": {
    "name": "ipython",
    "version": 3
   },
   "file_extension": ".py",
   "mimetype": "text/x-python",
   "name": "python",
   "nbconvert_exporter": "python",
   "pygments_lexer": "ipython3",
   "version": "3.5.1"
  }
 },
 "nbformat": 4,
 "nbformat_minor": 0
}
