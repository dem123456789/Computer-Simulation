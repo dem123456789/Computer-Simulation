{
 "cells": [
  {
   "cell_type": "markdown",
   "metadata": {},
   "source": [
    "# CX 4230, Spring 2016 [12]: Markov chain analysis of the SIR-CA infection model\n",
    "\n",
    "The goal of this notebook is to analyze theoretically the SIR-CA model of [Lab 11](http://nbviewer.jupyter.org/github/rvuduc/cx4230-ipynbs/blob/master/11--infection.ipynb). To complete it, you will need the SIR-CA machinery from Lab 9; we've packaged that up in a module that one of the code cells below will download."
   ]
  },
  {
   "cell_type": "markdown",
   "metadata": {},
   "source": [
    "Recall our motivation for a different kind of analysis, alluded to in the [slides for Lab 11](https://t-square.gatech.edu/access/content/group/gtc-59b8-dc03-5a67-a5f4-88b8e4d5b69a/cx4230-sp16--11-infection-and-diffusion.pdf): there is a combinatorial explosion in the number of possible states as the recovery time or problem size increase; if you just need some very high-level summary statistics, these simulations might be overkill."
   ]
  },
  {
   "cell_type": "markdown",
   "metadata": {},
   "source": [
    "## Setup\n",
    "\n",
    "Run the following code cells to get started."
   ]
  },
  {
   "cell_type": "code",
   "execution_count": null,
   "metadata": {
    "collapsed": true
   },
   "outputs": [],
   "source": [
    "# Our usual multidimensional array tools\n",
    "import numpy as np\n",
    "import scipy as sp\n",
    "import scipy.sparse\n",
    "\n",
    "# Some handy combinatorial functions, e.g.,\n",
    "# for generating permutations and combinations.\n",
    "# See: https://docs.python.org/3/library/itertools.html\n",
    "import itertools"
   ]
  },
  {
   "cell_type": "code",
   "execution_count": null,
   "metadata": {
    "collapsed": true
   },
   "outputs": [],
   "source": [
    " # Core plotting support\n",
    "import matplotlib.pyplot as plt\n",
    "%matplotlib inline"
   ]
  },
  {
   "cell_type": "markdown",
   "metadata": {},
   "source": [
    "We packaged up the SIR-CA implementation from Lab 11 into a module. The following code cell will download and import some of the functions and constants of this module."
   ]
  },
  {
   "cell_type": "code",
   "execution_count": null,
   "metadata": {
    "collapsed": false
   },
   "outputs": [],
   "source": [
    "import os\n",
    "os.makedirs ('cx4230', exist_ok=True)\n",
    "\n",
    "# http://stackoverflow.com/questions/7243750/download-file-from-web-in-python-3\n",
    "import urllib.request\n",
    "MOD_URL = 'https://github.com/rvuduc/cx4230-ipynbs/raw/master/cx4230/sirca.py'\n",
    "MOD_LOCAL = 'cx4230/sirca.py'\n",
    "urllib.request.urlretrieve (MOD_URL, MOD_LOCAL)\n",
    "\n",
    "%reload_ext autoreload\n",
    "%autoreload 2\n",
    "\n",
    "from cx4230 import sirca\n",
    "from cx4230.sirca import \\\n",
    "    create_new_grid, set_recovery_time, infected, exposed, susceptible, \\\n",
    "    show_peeps, sim, isim"
   ]
  },
  {
   "cell_type": "markdown",
   "metadata": {},
   "source": [
    "Run this cell to verify the module is working."
   ]
  },
  {
   "cell_type": "code",
   "execution_count": null,
   "metadata": {
    "collapsed": false,
    "scrolled": true
   },
   "outputs": [],
   "source": [
    "from ipywidgets import interact\n",
    "\n",
    "interact (isim\n",
    "          , m=(1, 10, 1)\n",
    "          , n=(1, 10, 1)\n",
    "          , max_steps=(0, 100, 1)\n",
    "          , tau=(0.0, 1.0, 0.1)\n",
    "          , dt=(0, 10, 1)\n",
    "          , seed=(0, 100, 1)\n",
    "         )"
   ]
  },
  {
   "cell_type": "markdown",
   "metadata": {},
   "source": [
    "## Target system to analyze: a 1-D, 3-cell grid\n",
    "\n",
    "Per the lecture notes, let's analyze the convergence of a 1-D system consisting of just 3 cells, where the conditional probability of infection for any exposed cell is $\\tau=0.2$ and the recovery time is $k=2$ days."
   ]
  },
  {
   "cell_type": "code",
   "execution_count": null,
   "metadata": {
    "collapsed": false
   },
   "outputs": [],
   "source": [
    "M, N = 1, 3 # M x N grid\n",
    "TAU = 0.2\n",
    "K = 2\n",
    "\n",
    "set_recovery_time (K)"
   ]
  },
  {
   "cell_type": "markdown",
   "metadata": {},
   "source": [
    "## Defining the state space\n",
    "\n",
    "To carry out the Markov chain analysis, recall that you need to do the following.\n",
    "\n",
    "1. Define the state space, $S$.\n",
    "2. Construct a probability transition matrix, $P \\equiv \\left(p_{ij}\\right)$ where $p_{ij} \\equiv \\mathrm{Pr}[s_j\\left|s_i\\right.]$ is the conditional probability of moving to state $s_j$ starting from state $s_i$ for every pair of states $s_i, s_j \\in S$."
   ]
  },
  {
   "cell_type": "markdown",
   "metadata": {},
   "source": [
    "For the 1-D, 3-cell system, the state space $S$ consists of all possible grid states, $s \\equiv (g_1, g_2, g_3)$ where $g_i \\in \\left\\{ \\mathtt{S}, \\mathtt{I}_1, \\ldots, \\mathtt{I}_k, \\mathtt{R} \\right\\}$."
   ]
  },
  {
   "cell_type": "code",
   "execution_count": null,
   "metadata": {
    "collapsed": false
   },
   "outputs": [],
   "source": [
    "from cx4230.sirca import EMPTY, SUSCEPTIBLE, INFECTED, RECOVERED\n",
    "CELL_VALUES = range (SUSCEPTIBLE, RECOVERED+1)\n",
    "print (\"Possible cell values:\", list (CELL_VALUES))"
   ]
  },
  {
   "cell_type": "markdown",
   "metadata": {},
   "source": [
    "**Exercise.** Generate a Python [set()](https://docs.python.org/3/library/stdtypes.html#set) named `S` that contains all possible grid-state triples.\n",
    "\n",
    "> Hint: Take a look at [`itertools.product()`](https://docs.python.org/3/library/itertools.html#itertools.product)."
   ]
  },
  {
   "cell_type": "code",
   "execution_count": null,
   "metadata": {
    "collapsed": false
   },
   "outputs": [],
   "source": [
    "# @YOUSE: Generate S\n",
    "S = set (...)\n",
    "\n",
    "# Test:\n",
    "print (S)"
   ]
  },
  {
   "cell_type": "markdown",
   "metadata": {},
   "source": [
    "To construct the probability transition matrix, $P$, we will eventually need to map individual states to integer indices. The following code builds two lookup tables for converting grid states to integers and vice-versa."
   ]
  },
  {
   "cell_type": "code",
   "execution_count": null,
   "metadata": {
    "collapsed": false
   },
   "outputs": [],
   "source": [
    "IND_TO_S = dict (enumerate (S))\n",
    "S_TO_IND = {val: key for (key, val) in IND_TO_S.items ()}\n",
    "\n",
    "print (\"==> Index to state table:\\n\", IND_TO_S, \"\\n\")\n",
    "print (\"==> State to index table:\\n\", S_TO_IND)"
   ]
  },
  {
   "cell_type": "markdown",
   "metadata": {},
   "source": [
    "The states are tuples whereas the grid in our simulation is a 2-D array (with an artificial empty boundary). Here are some handy functions to convert between a grid and a state."
   ]
  },
  {
   "cell_type": "code",
   "execution_count": null,
   "metadata": {
    "collapsed": false
   },
   "outputs": [],
   "source": [
    "def convert_state_to_grid (s, m, n):\n",
    "    \"\"\"\n",
    "    Converts a state, given as a tuple `s`, into an equivalent\n",
    "    `m` x `n` grid.\n",
    "    \"\"\"\n",
    "    G = create_new_grid (m, n)\n",
    "    G_interior = G[1:-1, 1:-1]\n",
    "    G_interior[:, :] = np.array (list (s)).reshape ((m, n))\n",
    "    return G\n",
    "\n",
    "def convert_grid_to_state (G):\n",
    "    \"\"\"\n",
    "    Converts a an `m` x `n` grid `G` (+ its empty boundary)\n",
    "    into a `m*n`-tuple.\n",
    "    \"\"\"\n",
    "    G_interior = G[1:-1, 1:-1]\n",
    "    return tuple (G_interior.reshape (np.prod (G_interior.shape)))"
   ]
  },
  {
   "cell_type": "code",
   "execution_count": null,
   "metadata": {
    "collapsed": false
   },
   "outputs": [],
   "source": [
    "# Test\n",
    "G0 = create_new_grid (M, N)\n",
    "G0[int ((M+2)/2), int ((N+2)/2)] = INFECTED\n",
    "\n",
    "print (\"==> Original grid:\")\n",
    "print (G0, \"\\n\")\n",
    "\n",
    "print (\"==> Equivalent state (id):\")\n",
    "s0 = convert_grid_to_state (G0)\n",
    "i0 = S_TO_IND[s0]\n",
    "print (\"State\", s0, \"--> index\", i0, \"\\n\")\n",
    "\n",
    "print (\"==> Convert back to grid:\")\n",
    "s0_prime = IND_TO_S[i0]\n",
    "G0_prime = convert_state_to_grid (s0_prime, M, N)\n",
    "print (G0_prime, \"\\n\")\n",
    "\n",
    "assert (G0 == G0_prime).all ()\n",
    "print (\"==> Passed!\")"
   ]
  },
  {
   "cell_type": "markdown",
   "metadata": {},
   "source": [
    "## Reachability\n",
    "\n",
    "The last thing you need to compute $p_{ij}$ is a way to enumerate all _reachable_ $j$ values, given $i$. The following code cells build a function to determine reachability.\n",
    "\n",
    "First, here is an auxiliary function to get a list of tuples that are the locations of any non-zero value of a given grid."
   ]
  },
  {
   "cell_type": "code",
   "execution_count": null,
   "metadata": {
    "collapsed": false
   },
   "outputs": [],
   "source": [
    "def find_nonzero_locs (G):\n",
    "    \"\"\"\n",
    "    Given a grid G, returns a list of all locations (i, j)\n",
    "    where G[i, j] is not equal to zero.\n",
    "    \"\"\"\n",
    "    (I, J) = np.nonzero (G)\n",
    "    return list (zip (I, J))\n",
    "\n",
    "# Test\n",
    "print (find_nonzero_locs (exposed (G0)))"
   ]
  },
  {
   "cell_type": "markdown",
   "metadata": {},
   "source": [
    "**Exercise.** Let $\\tau$ be the conditional probability that an exposed individual becomes infected. Further suppose the grid contains $n_e$ exposed individuals.\n",
    "\n",
    "1. How many different ways are there for $n_s$ individuals to become infected? (Assume $0 \\leq n_s \\leq n_e$.)\n",
    "2. What is the probability that $n_s$ of the $n_e$ individuals will become infected?"
   ]
  },
  {
   "cell_type": "markdown",
   "metadata": {},
   "source": [
    "> _Answer_:\n",
    "> \n",
    "> 1. ??\n",
    "> 2. ??"
   ]
  },
  {
   "cell_type": "code",
   "execution_count": null,
   "metadata": {
    "collapsed": false
   },
   "outputs": [],
   "source": [
    "def reachable (G, tau):\n",
    "    # Find all infected cells\n",
    "    I = infected (G)\n",
    "    if np.sum (I) == 0: # No infected cells\n",
    "        yield (1.0, G)\n",
    "    else: # >= 1 infected cell\n",
    "        # Find number and locations of all exposed cells\n",
    "        locs_E = find_nonzero_locs (exposed (G) * susceptible (G))\n",
    "        n_E = len (locs_E)\n",
    "\n",
    "        # Try all possible spreading combinations\n",
    "        for k in range (0, n_E+1):\n",
    "            # Probability that a particular set of k exposed people become infected:\n",
    "            prob_k = (tau**k) * ((1.0 - tau)**(n_E - k))\n",
    "\n",
    "            # Enumerate all reachable infection states\n",
    "            for spread_locs_k in itertools.combinations (locs_E, k):\n",
    "                G_next = np.copy (G) + I\n",
    "                for (i, j) in spread_locs_k:\n",
    "                    G_next[i, j] = INFECTED\n",
    "                yield (prob_k, G_next)"
   ]
  },
  {
   "cell_type": "code",
   "execution_count": null,
   "metadata": {
    "collapsed": false
   },
   "outputs": [],
   "source": [
    "n_states = len (S)\n",
    "nz_i = []\n",
    "nz_j = []\n",
    "nz_val = []\n",
    "for s_i in S:\n",
    "    i = S_TO_IND[s_i]\n",
    "    G_i = convert_state_to_grid (s_i, M, N)\n",
    "    \n",
    "    for (p_ij, G_j) in reachable (G_i, TAU):\n",
    "        s_j = convert_grid_to_state (G_j)\n",
    "        j = S_TO_IND[s_j]\n",
    "        nz_i.append (i)\n",
    "        nz_j.append (j)\n",
    "        nz_val.append (p_ij)\n",
    "            \n",
    "P = sp.sparse.coo_matrix ((nz_val, (nz_i, nz_j)), (n_states, n_states))\n",
    "print (\"no. of states ==\", n_states)\n",
    "print (\"tau ==\", TAU, \"; P = (p_{ij}) =\\n\", P)\n",
    "print (\"nnz(P) ==\", P.nnz)\n",
    "print (\"row sums ==\", P.sum (axis=1))"
   ]
  },
  {
   "cell_type": "code",
   "execution_count": null,
   "metadata": {
    "collapsed": false
   },
   "outputs": [],
   "source": [
    "# Index case:\n",
    "x0 = np.zeros ((n_states, 1))\n",
    "x0[S_TO_IND[(0, 1, 0)]] = 1.0\n",
    "\n",
    "# Compute the steady-state distribution\n",
    "x = x0\n",
    "for t in range (5):\n",
    "    x = P.transpose ().dot (x)\n",
    "\n",
    "# Summarize the \"interesting\" states\n",
    "x_sorted = sorted (list (enumerate (x)), key=lambda t: t[1], reverse=True)\n",
    "x_interesting = list (filter (lambda t: t[1] > 0.0, x_sorted))\n",
    "print (\"%d state(s) have a non-zero steady-state probability:\" % len (x_interesting))\n",
    "for (i, x_i) in x_interesting:\n",
    "    print (\"%d:\" % i, \"Pr[%s] ==\" % str(IND_TO_S[i]), x_i[0])"
   ]
  },
  {
   "cell_type": "code",
   "execution_count": null,
   "metadata": {
    "collapsed": true
   },
   "outputs": [],
   "source": []
  }
 ],
 "metadata": {
  "kernelspec": {
   "display_name": "Python 3",
   "language": "python",
   "name": "python3"
  },
  "language_info": {
   "codemirror_mode": {
    "name": "ipython",
    "version": 3
   },
   "file_extension": ".py",
   "mimetype": "text/x-python",
   "name": "python",
   "nbconvert_exporter": "python",
   "pygments_lexer": "ipython3",
   "version": "3.5.1"
  }
 },
 "nbformat": 4,
 "nbformat_minor": 0
}
